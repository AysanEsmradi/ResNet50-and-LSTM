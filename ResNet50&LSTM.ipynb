{
 "cells": [
  {
   "cell_type": "code",
   "execution_count": 98,
   "id": "377ff770",
   "metadata": {},
   "outputs": [],
   "source": [
    "import random\n",
    "import shutil\n",
    "import time\n",
    "import warnings\n",
    "import sys\n",
    "import torch\n",
    "import torch.nn as nn\n",
    "import numpy as np\n",
    "import os\n",
    "import pandas as pd\n",
    "from PIL import Image\n",
    "import torch.nn.parallel\n",
    "from tqdm import tqdm\n",
    "import torch.backends.cudnn as cudnn\n",
    "import torch.distributed as dist\n",
    "import torch.optim as optim\n",
    "import torch.multiprocessing as mp\n",
    "import torch.utils.data\n",
    "import torch.utils.data.distributed\n",
    "import torchvision.transforms as transforms\n",
    "import torchvision.datasets as datasets\n",
    "from torch.utils.data import Dataset\n",
    "import matplotlib.pyplot as plt\n",
    "import torchvision.models as models\n",
    "from torch.utils.data import Dataset,DataLoader\n",
    "import torch.nn.functional as F\n",
    "from tqdm import tqdm\n",
    "from sklearn.metrics import accuracy_score\n",
    "import torch.nn.init as init"
   ]
  },
  {
   "cell_type": "code",
   "execution_count": 99,
   "id": "06216bd4",
   "metadata": {},
   "outputs": [],
   "source": [
    "#dataset\n",
    "class Surgical(Dataset): \n",
    "\n",
    "    def __init__(self, root=\"./datas\", train=True, transform=None, video=0):\n",
    "        self.train = train\n",
    "        self.video = str(video)\n",
    "        if(self.train):\n",
    "            # Path of csvs\n",
    "            Phase_path = \"./datas/annotation/video_{number}.csv\".format(number=self.video)\n",
    "            self.phasepath = os.path.join(Phase_path)\n",
    "            # Path of images\n",
    "            frame_path = \"./datas/{number}\".format(number=self.video)\n",
    "            self.root = os.path.join(frame_path)\n",
    "            #video_41 is test file.\n",
    "        else:\n",
    "            self.phasepath = os.path.join(\"./datas/annotation/video_41.csv\")\n",
    "            self.root = os.path.join(\"./datas/41\")\n",
    "        # Transforms\n",
    "        self.transform = transform\n",
    "    \n",
    "    def __getitem__(self, index):\n",
    "        csv = pd.read_csv(self.phasepath)\n",
    "        data = csv\n",
    "        if index <= len(data)-2:   \n",
    "            X = []       \n",
    "            for i in range(index-1,index+2):    #three nearby frames\n",
    "                image = Image.open(os.path.join(self.root, data.iloc[i, 0]))\n",
    "                image = self.transform(image)\n",
    "                X.append(image)\n",
    "\n",
    "            y = data.iloc[index, 1]   \n",
    "            X = torch.stack(X, dim=0) \n",
    "            return (X, y)\n",
    "\n",
    "        else:\n",
    "            X = []       \n",
    "            for i in range(index-2,index+1):    #three nearby frames\n",
    "                image = Image.open(os.path.join(self.root, data.iloc[i, 0]))\n",
    "                image = self.transform(image)\n",
    "                X.append(image)\n",
    "\n",
    "            y = data.iloc[index, 1]   \n",
    "            X = torch.stack(X, dim=0) \n",
    "            return (X, y)\n",
    "            \n",
    "\n",
    "    def __len__(self):\n",
    "        csv = pd.read_csv(self.phasepath)\n",
    "        return len(csv)\n"
   ]
  },
  {
   "cell_type": "code",
   "execution_count": 100,
   "id": "8ecf7fb7",
   "metadata": {},
   "outputs": [],
   "source": [
    "device = torch.device(\"cuda\" if torch.cuda.is_available() else \"cpu\")\n",
    "epochs =80\n",
    "learning_rate = 5e-4\n",
    "batch_size = 40"
   ]
  },
  {
   "cell_type": "code",
   "execution_count": 101,
   "id": "0884cf1a",
   "metadata": {},
   "outputs": [],
   "source": [
    "train_transform = transforms.Compose([transforms.RandomRotation(35),\n",
    "                                      transforms.RandomVerticalFlip(),\n",
    "                                      transforms.RandomHorizontalFlip(),\n",
    "                                      transforms.RandomAffine(180, translate=[0.2, 0.2], scale=[0.8, 1.2]),\n",
    "                                      transforms.ColorJitter(0.02, 0.02, 0.02, 0.01),\n",
    "                                      transforms.RandomResizedCrop(224),\n",
    "                                      transforms.ToTensor()])\n",
    "test_transform = transforms.Compose([transforms.Resize(224),\n",
    "                                     transforms.ToTensor()])\n",
    "\n",
    "\n",
    "trainset_1 = Surgical(train=True, transform=train_transform, video=1)  \n",
    "trainset_2 = Surgical(train=True, transform=train_transform, video=2)\n",
    "trainset_3 = Surgical(train=True, transform=train_transform, video=3)\n",
    "trainset_4 = Surgical(train=True, transform=train_transform, video=4)\n",
    "trainset_5 = Surgical(train=True, transform=train_transform, video=5)\n",
    "testset = Surgical(train=False, transform=test_transform)"
   ]
  },
  {
   "cell_type": "code",
   "execution_count": 103,
   "id": "d7d07a96",
   "metadata": {},
   "outputs": [],
   "source": [
    "trainloader_1 = torch.utils.data.DataLoader(trainset_1, batch_size=batch_size,\n",
    "                                          shuffle=True, pin_memory=True)\n",
    "trainloader_2 = torch.utils.data.DataLoader(trainset_2, batch_size=batch_size,\n",
    "                                          shuffle=True, pin_memory=True)\n",
    "trainloader_3 = torch.utils.data.DataLoader(trainset_3, batch_size=batch_size,\n",
    "                                          shuffle=True, pin_memory=True)\n",
    "trainloader_4 = torch.utils.data.DataLoader(trainset_4, batch_size=batch_size,\n",
    "                                          shuffle=True, pin_memory=True)\n",
    "trainloader_5 = torch.utils.data.DataLoader(trainset_5, batch_size=batch_size,\n",
    "                                          shuffle=True, pin_memory=True)                                                                                                                                          \n",
    "testloader = torch.utils.data.DataLoader(testset, batch_size=batch_size,\n",
    "                                        shuffle=False, pin_memory=True)"
   ]
  },
  {
   "cell_type": "code",
   "execution_count": 104,
   "id": "e2eedc8c",
   "metadata": {},
   "outputs": [],
   "source": [
    "# encoder using ResNet-50 pretrained\n",
    "class ResCNNEncoder(nn.Module):\n",
    "    def __init__(self, fc_hidden1=512, fc_hidden2=512, drop_p=0.3, CNN_embed_dim=300):\n",
    "        \"\"\"Load the pretrained ResNet-50 and replace top fc layer.\"\"\"\n",
    "        super(ResCNNEncoder, self).__init__()\n",
    "\n",
    "        self.fc_hidden1, self.fc_hidden2 = fc_hidden1, fc_hidden2\n",
    "        self.drop_p = drop_p\n",
    "\n",
    "        resnet = models.resnet50(pretrained=True)\n",
    "        modules = list(resnet.children())[:-1]      # delete the last fc layer.\n",
    "        self.resnet = nn.Sequential(*modules)\n",
    "        self.fc1 = nn.Linear(resnet.fc.in_features, fc_hidden1)\n",
    "        self.bn1 = nn.BatchNorm1d(fc_hidden1, momentum=0.01)\n",
    "        self.fc2 = nn.Linear(fc_hidden1, fc_hidden2)\n",
    "        self.bn2 = nn.BatchNorm1d(fc_hidden2, momentum=0.01)\n",
    "        self.fc3 = nn.Linear(fc_hidden2, CNN_embed_dim)\n",
    "        \n",
    "    def forward(self, x_3d):\n",
    "        cnn_embed_seq = []\n",
    "        for t in range(x_3d.size(1)):\n",
    "            # ResNet CNN\n",
    "            with torch.no_grad():\n",
    "                x = self.resnet(x_3d[:, t, :, :, :])  # ResNet\n",
    "                x = x.view(x.size(0), -1)             # flatten output of conv\n",
    "\n",
    "            # FC layers\n",
    "            x = self.bn1(self.fc1(x))\n",
    "            x = F.relu(x)\n",
    "            x = self.bn2(self.fc2(x))\n",
    "            x = F.relu(x)\n",
    "            x = F.dropout(x, p=self.drop_p, training=self.training)\n",
    "            x = self.fc3(x)\n",
    "\n",
    "            cnn_embed_seq.append(x)\n",
    "\n",
    "        \n",
    "        cnn_embed_seq = torch.stack(cnn_embed_seq, dim=0).transpose_(0, 1)\n",
    "\n",
    "        return cnn_embed_seq\n",
    "\n",
    "\n",
    "class DecoderRNN(nn.Module):\n",
    "    def __init__(self, CNN_embed_dim=300, h_RNN_layers=3, h_RNN=256, h_FC_dim=128, drop_p=0.3, num_classes=7):\n",
    "        super(DecoderRNN, self).__init__()\n",
    "\n",
    "        self.RNN_input_size = CNN_embed_dim\n",
    "        self.h_RNN_layers = h_RNN_layers   # RNN hidden layers\n",
    "        self.h_RNN = h_RNN                 # RNN hidden nodes\n",
    "        self.h_FC_dim = h_FC_dim\n",
    "        self.drop_p = drop_p\n",
    "        self.num_classes = num_classes\n",
    "\n",
    "        self.LSTM = nn.LSTM(\n",
    "            input_size=self.RNN_input_size,\n",
    "            hidden_size=self.h_RNN,        \n",
    "            num_layers=h_RNN_layers,       \n",
    "            batch_first=True,      \n",
    "        )\n",
    "\n",
    "        self.fc1 = nn.Linear(self.h_RNN, self.h_FC_dim)\n",
    "        self.fc2 = nn.Linear(self.h_FC_dim, self.num_classes)\n",
    "\n",
    "    def forward(self, x_RNN):\n",
    "        \n",
    "        self.LSTM.flatten_parameters()\n",
    "        RNN_out, (h_n, h_c) = self.LSTM(x_RNN, None)  \n",
    "\n",
    "        # FC layers\n",
    "        x = self.fc1(RNN_out[:, -1, :])   # choose RNN_out at the last time step\n",
    "        x = F.relu(x)\n",
    "        x = F.dropout(x, p=self.drop_p, training=self.training)\n",
    "        x = self.fc2(x)\n",
    "\n",
    "        return x"
   ]
  },
  {
   "cell_type": "code",
   "execution_count": 106,
   "id": "a12d54d8",
   "metadata": {},
   "outputs": [],
   "source": [
    "CNN_fc_hidden1, CNN_fc_hidden2 = 2048, 768\n",
    "CNN_embed_dim = 512   \n",
    "res_size = 224        \n",
    "dropout_p = 0.0       # dropout probability\n",
    "\n",
    "# DecoderRNN architecture\n",
    "RNN_hidden_layers = 3\n",
    "RNN_hidden_nodes = 512\n",
    "RNN_FC_dim = 256"
   ]
  },
  {
   "cell_type": "code",
   "execution_count": 107,
   "id": "5ee32158",
   "metadata": {},
   "outputs": [],
   "source": [
    "cnn_encoder = ResCNNEncoder(fc_hidden1=CNN_fc_hidden1, fc_hidden2=CNN_fc_hidden2, drop_p=dropout_p, CNN_embed_dim=CNN_embed_dim).to(device)\n",
    "rnn_decoder = DecoderRNN(CNN_embed_dim=CNN_embed_dim, h_RNN_layers=RNN_hidden_layers, h_RNN=RNN_hidden_nodes, \n",
    "                         h_FC_dim=RNN_FC_dim, drop_p=dropout_p, num_classes=7).to(device)"
   ]
  },
  {
   "cell_type": "code",
   "execution_count": 108,
   "id": "325d6fe1",
   "metadata": {},
   "outputs": [],
   "source": [
    "#loss\n",
    "loss_fn= nn.CrossEntropyLoss().to(device)"
   ]
  },
  {
   "cell_type": "code",
   "execution_count": 109,
   "id": "d37ba44a",
   "metadata": {},
   "outputs": [],
   "source": [
    "# Train \n",
    "train_Acc_list = []\n",
    "train_loss_list = []\n",
    "trainloader = trainloader_1\n",
    "def train(model, trainloader,testloader,loss_fn, learning_rate):\n",
    "    for epoch in range(1, epochs+1):\n",
    "        print(f\"Epoch {epoch}\\n-------------------------------\")\n",
    "        if epoch % 10 == 0:\n",
    "            learning_rate = learning_rate * 0.5\n",
    "            optimizer = optim.Adam(crnn_params, learning_rate, weight_decay=1e-5)\n",
    "        else:\n",
    "            optimizer = optim.Adam(crnn_params, learning_rate, weight_decay=1e-5)\n",
    "        cnn_encoder, rnn_decoder = model\n",
    "        cnn_encoder.train()\n",
    "        rnn_decoder.train()\n",
    "\n",
    "        losses = []\n",
    "        scores = []\n",
    "        correct = 0\n",
    "        total = 0\n",
    "        \n",
    "        number = epoch % 10\n",
    "        if number > 5:\n",
    "            number -= 5\n",
    "        if number == 1:\n",
    "            trainset = trainset_1\n",
    "            trainloader = trainloader_1\n",
    "        elif number == 2:\n",
    "            trainset = trainset_2\n",
    "            trainloader = trainloader_2\n",
    "        elif number == 3:\n",
    "            trainset = trainset_3\n",
    "            trainloader = trainloader_3\n",
    "        elif number == 4:\n",
    "            trainset = trainset_4\n",
    "            trainloader = trainloader_4\n",
    "        else:\n",
    "            trainset = trainset_5\n",
    "            trainloader = trainloader_5\n",
    "    \n",
    "        N_count = 0 \n",
    "        for batch_idx, (X,y) in tqdm(enumerate(trainloader)):\n",
    "            X, y = X.to(device), y.to(device).view(-1, )\n",
    "\n",
    "            N_count += X.size(0)\n",
    "\n",
    "            optimizer.zero_grad()\n",
    "            output = rnn_decoder(cnn_encoder(X))  \n",
    "\n",
    "            loss = loss_fn(output, y)\n",
    "            losses.append(loss.item())\n",
    "\n",
    "     \n",
    "\n",
    "            loss.backward()\n",
    "            optimizer.step()\n",
    "            \n",
    "            _, predicted = output.max(1)\n",
    "\n",
    "            total_batch = y.size(0)\n",
    "            correct_batch = predicted.eq(y).sum().item()\n",
    "            total += total_batch\n",
    "            correct += correct_batch\n",
    "            \n",
    "        train_acc=100.0 * correct / total\n",
    "\n",
    "        print('Train Epoch: {} [{}/{} ({:.0f}%)]\\tLoss: {:.6f}, Acc: {:.2f}%'.format(\n",
    "            epoch , N_count, len(trainloader.dataset), 100. * (batch_idx + 1) / len(trainloader), loss.item(), train_acc))\n",
    "  \n",
    "        train_loss_list.append(losses)\n",
    "        train_Acc_list.append(train_acc)\n",
    "        test(model, testloader, epoch,loss_fn)\n",
    "            # save all train test results"
   ]
  },
  {
   "cell_type": "code",
   "execution_count": 110,
   "id": "de3bb35f",
   "metadata": {},
   "outputs": [],
   "source": [
    "test_Acc_list = []\n",
    "test_loss_list = []\n",
    "\n",
    "def test(model, testloader, epoch,loss_fn) :\n",
    "    cnn_encoder, rnn_decoder = model\n",
    "    cnn_encoder.eval()\n",
    "    rnn_decoder.eval()\n",
    "\n",
    "    test_loss = 0\n",
    "    all_y = []\n",
    "    all_y_pred = []\n",
    "    correct = 0\n",
    "    total = 0\n",
    "    with torch.no_grad():\n",
    "        for X, y in testloader:\n",
    "            X, y = X.to(device), y.to(device).view(-1, )\n",
    "\n",
    "            output = rnn_decoder(cnn_encoder(X))\n",
    "\n",
    "            loss = loss_fn(output, y)\n",
    "            test_loss += loss.item()                 \n",
    "            y_pred = output.max(1, keepdim=True)[1]  \n",
    "\n",
    "            all_y.extend(y)\n",
    "            all_y_pred.extend(y_pred)\n",
    "\n",
    "    test_loss /= len(testloader.dataset)\n",
    "\n",
    "    all_y = torch.stack(all_y, dim=0)\n",
    "    all_y_pred = torch.stack(all_y_pred, dim=0)\n",
    "    test_score = accuracy_score(all_y.cpu().data.squeeze().numpy(), all_y_pred.cpu().data.squeeze().numpy())\n",
    "    test_acc = 100* test_score\n",
    "\n",
    "    print('\\nTest set: Average loss: {:.4f}, Accuracy: {:.2f}%\\n'.format(test_loss, test_acc))\n",
    "    test_Acc_list.append(test_acc)\n",
    "    test_loss_list.append(test_loss)\n"
   ]
  },
  {
   "cell_type": "code",
   "execution_count": 111,
   "id": "f1737c14",
   "metadata": {},
   "outputs": [],
   "source": [
    "# Combine all EncoderCNN + DecoderRNN parameters\n",
    "crnn_params = list(cnn_encoder.fc1.parameters()) + list(cnn_encoder.bn1.parameters()) + \\\n",
    "              list(cnn_encoder.fc2.parameters()) + list(cnn_encoder.bn2.parameters()) + \\\n",
    "              list(cnn_encoder.fc3.parameters()) + list(rnn_decoder.parameters())\n",
    "\n"
   ]
  },
  {
   "cell_type": "code",
   "execution_count": 112,
   "id": "2f35c034",
   "metadata": {},
   "outputs": [
    {
     "name": "stdout",
     "output_type": "stream",
     "text": [
      "Epoch 1\n",
      "-------------------------------\n"
     ]
    },
    {
     "name": "stderr",
     "output_type": "stream",
     "text": [
      "11it [01:25,  7.77s/it]\n"
     ]
    },
    {
     "name": "stdout",
     "output_type": "stream",
     "text": [
      "Train Epoch: 1 [434/434 (100%)]\tLoss: 1.290320, Acc: 33.41%\n",
      "\n",
      "Test set: Average loss: 0.0380, Accuracy: 40.21%\n",
      "\n",
      "Epoch 2\n",
      "-------------------------------\n"
     ]
    },
    {
     "name": "stderr",
     "output_type": "stream",
     "text": [
      "18it [02:19,  7.73s/it]\n"
     ]
    },
    {
     "name": "stdout",
     "output_type": "stream",
     "text": [
      "Train Epoch: 2 [710/710 (100%)]\tLoss: 1.217357, Acc: 47.89%\n",
      "\n",
      "Test set: Average loss: 0.0382, Accuracy: 60.44%\n",
      "\n",
      "Epoch 3\n",
      "-------------------------------\n"
     ]
    },
    {
     "name": "stderr",
     "output_type": "stream",
     "text": [
      "37it [04:44,  7.70s/it]\n"
     ]
    },
    {
     "name": "stdout",
     "output_type": "stream",
     "text": [
      "Train Epoch: 3 [1458/1458 (100%)]\tLoss: 0.786123, Acc: 74.42%\n",
      "\n",
      "Test set: Average loss: 0.0408, Accuracy: 42.27%\n",
      "\n",
      "Epoch 4\n",
      "-------------------------------\n"
     ]
    },
    {
     "name": "stderr",
     "output_type": "stream",
     "text": [
      "10it [01:13,  7.35s/it]\n"
     ]
    },
    {
     "name": "stdout",
     "output_type": "stream",
     "text": [
      "Train Epoch: 4 [381/381 (100%)]\tLoss: 1.576236, Acc: 45.41%\n",
      "\n",
      "Test set: Average loss: 0.0376, Accuracy: 42.01%\n",
      "\n",
      "Epoch 5\n",
      "-------------------------------\n"
     ]
    },
    {
     "name": "stderr",
     "output_type": "stream",
     "text": [
      "15it [01:52,  7.53s/it]\n"
     ]
    },
    {
     "name": "stdout",
     "output_type": "stream",
     "text": [
      "Train Epoch: 5 [587/587 (100%)]\tLoss: 0.919752, Acc: 60.99%\n",
      "\n",
      "Test set: Average loss: 0.0761, Accuracy: 10.31%\n",
      "\n",
      "Epoch 6\n",
      "-------------------------------\n"
     ]
    },
    {
     "name": "stderr",
     "output_type": "stream",
     "text": [
      "11it [01:22,  7.52s/it]\n"
     ]
    },
    {
     "name": "stdout",
     "output_type": "stream",
     "text": [
      "Train Epoch: 6 [434/434 (100%)]\tLoss: 0.942428, Acc: 62.44%\n",
      "\n",
      "Test set: Average loss: 0.0385, Accuracy: 48.58%\n",
      "\n",
      "Epoch 7\n",
      "-------------------------------\n"
     ]
    },
    {
     "name": "stderr",
     "output_type": "stream",
     "text": [
      "18it [02:15,  7.53s/it]\n"
     ]
    },
    {
     "name": "stdout",
     "output_type": "stream",
     "text": [
      "Train Epoch: 7 [710/710 (100%)]\tLoss: 0.806462, Acc: 53.66%\n",
      "\n",
      "Test set: Average loss: 0.0401, Accuracy: 52.06%\n",
      "\n",
      "Epoch 8\n",
      "-------------------------------\n"
     ]
    },
    {
     "name": "stderr",
     "output_type": "stream",
     "text": [
      "37it [04:40,  7.58s/it]\n"
     ]
    },
    {
     "name": "stdout",
     "output_type": "stream",
     "text": [
      "Train Epoch: 8 [1458/1458 (100%)]\tLoss: 0.769409, Acc: 74.35%\n",
      "\n",
      "Test set: Average loss: 0.0496, Accuracy: 40.21%\n",
      "\n",
      "Epoch 9\n",
      "-------------------------------\n"
     ]
    },
    {
     "name": "stderr",
     "output_type": "stream",
     "text": [
      "10it [01:13,  7.35s/it]\n"
     ]
    },
    {
     "name": "stdout",
     "output_type": "stream",
     "text": [
      "Train Epoch: 9 [381/381 (100%)]\tLoss: 1.176542, Acc: 48.03%\n",
      "\n",
      "Test set: Average loss: 0.0407, Accuracy: 42.14%\n",
      "\n",
      "Epoch 10\n",
      "-------------------------------\n"
     ]
    },
    {
     "name": "stderr",
     "output_type": "stream",
     "text": [
      "15it [01:52,  7.51s/it]\n"
     ]
    },
    {
     "name": "stdout",
     "output_type": "stream",
     "text": [
      "Train Epoch: 10 [587/587 (100%)]\tLoss: 0.867631, Acc: 60.99%\n",
      "\n",
      "Test set: Average loss: 0.0378, Accuracy: 43.56%\n",
      "\n",
      "Epoch 11\n",
      "-------------------------------\n"
     ]
    },
    {
     "name": "stderr",
     "output_type": "stream",
     "text": [
      "11it [01:22,  7.49s/it]\n"
     ]
    },
    {
     "name": "stdout",
     "output_type": "stream",
     "text": [
      "Train Epoch: 11 [434/434 (100%)]\tLoss: 0.967530, Acc: 58.29%\n",
      "\n",
      "Test set: Average loss: 0.0368, Accuracy: 38.40%\n",
      "\n",
      "Epoch 12\n",
      "-------------------------------\n"
     ]
    },
    {
     "name": "stderr",
     "output_type": "stream",
     "text": [
      "18it [02:15,  7.51s/it]\n"
     ]
    },
    {
     "name": "stdout",
     "output_type": "stream",
     "text": [
      "Train Epoch: 12 [710/710 (100%)]\tLoss: 1.046541, Acc: 52.82%\n",
      "\n",
      "Test set: Average loss: 0.0522, Accuracy: 32.73%\n",
      "\n",
      "Epoch 13\n",
      "-------------------------------\n"
     ]
    },
    {
     "name": "stderr",
     "output_type": "stream",
     "text": [
      "37it [04:40,  7.59s/it]\n"
     ]
    },
    {
     "name": "stdout",
     "output_type": "stream",
     "text": [
      "Train Epoch: 13 [1458/1458 (100%)]\tLoss: 0.410244, Acc: 73.05%\n",
      "\n",
      "Test set: Average loss: 0.0319, Accuracy: 63.27%\n",
      "\n",
      "Epoch 14\n",
      "-------------------------------\n"
     ]
    },
    {
     "name": "stderr",
     "output_type": "stream",
     "text": [
      "10it [01:13,  7.34s/it]\n"
     ]
    },
    {
     "name": "stdout",
     "output_type": "stream",
     "text": [
      "Train Epoch: 14 [381/381 (100%)]\tLoss: 1.305974, Acc: 52.23%\n",
      "\n",
      "Test set: Average loss: 0.0292, Accuracy: 66.62%\n",
      "\n",
      "Epoch 15\n",
      "-------------------------------\n"
     ]
    },
    {
     "name": "stderr",
     "output_type": "stream",
     "text": [
      "15it [01:53,  7.54s/it]\n"
     ]
    },
    {
     "name": "stdout",
     "output_type": "stream",
     "text": [
      "Train Epoch: 15 [587/587 (100%)]\tLoss: 0.910163, Acc: 64.05%\n",
      "\n",
      "Test set: Average loss: 0.0343, Accuracy: 50.26%\n",
      "\n",
      "Epoch 16\n",
      "-------------------------------\n"
     ]
    },
    {
     "name": "stderr",
     "output_type": "stream",
     "text": [
      "11it [01:23,  7.55s/it]\n"
     ]
    },
    {
     "name": "stdout",
     "output_type": "stream",
     "text": [
      "Train Epoch: 16 [434/434 (100%)]\tLoss: 0.863349, Acc: 61.75%\n",
      "\n",
      "Test set: Average loss: 0.0321, Accuracy: 48.32%\n",
      "\n",
      "Epoch 17\n",
      "-------------------------------\n"
     ]
    },
    {
     "name": "stderr",
     "output_type": "stream",
     "text": [
      "18it [02:16,  7.56s/it]\n"
     ]
    },
    {
     "name": "stdout",
     "output_type": "stream",
     "text": [
      "Train Epoch: 17 [710/710 (100%)]\tLoss: 1.042401, Acc: 52.68%\n",
      "\n",
      "Test set: Average loss: 0.0380, Accuracy: 40.59%\n",
      "\n",
      "Epoch 18\n",
      "-------------------------------\n"
     ]
    },
    {
     "name": "stderr",
     "output_type": "stream",
     "text": [
      "37it [04:40,  7.57s/it]\n"
     ]
    },
    {
     "name": "stdout",
     "output_type": "stream",
     "text": [
      "Train Epoch: 18 [1458/1458 (100%)]\tLoss: 0.479606, Acc: 75.38%\n",
      "\n",
      "Test set: Average loss: 0.0330, Accuracy: 56.44%\n",
      "\n",
      "Epoch 19\n",
      "-------------------------------\n"
     ]
    },
    {
     "name": "stderr",
     "output_type": "stream",
     "text": [
      "10it [01:13,  7.36s/it]\n"
     ]
    },
    {
     "name": "stdout",
     "output_type": "stream",
     "text": [
      "Train Epoch: 19 [381/381 (100%)]\tLoss: 1.298823, Acc: 54.86%\n",
      "\n",
      "Test set: Average loss: 0.0283, Accuracy: 66.49%\n",
      "\n",
      "Epoch 20\n",
      "-------------------------------\n"
     ]
    },
    {
     "name": "stderr",
     "output_type": "stream",
     "text": [
      "15it [01:52,  7.51s/it]\n"
     ]
    },
    {
     "name": "stdout",
     "output_type": "stream",
     "text": [
      "Train Epoch: 20 [587/587 (100%)]\tLoss: 0.735676, Acc: 65.25%\n",
      "\n",
      "Test set: Average loss: 0.0325, Accuracy: 50.77%\n",
      "\n",
      "Epoch 21\n",
      "-------------------------------\n"
     ]
    },
    {
     "name": "stderr",
     "output_type": "stream",
     "text": [
      "11it [01:23,  7.55s/it]\n"
     ]
    },
    {
     "name": "stdout",
     "output_type": "stream",
     "text": [
      "Train Epoch: 21 [434/434 (100%)]\tLoss: 0.564876, Acc: 61.75%\n",
      "\n",
      "Test set: Average loss: 0.0256, Accuracy: 65.46%\n",
      "\n",
      "Epoch 22\n",
      "-------------------------------\n"
     ]
    },
    {
     "name": "stderr",
     "output_type": "stream",
     "text": [
      "18it [02:15,  7.50s/it]\n"
     ]
    },
    {
     "name": "stdout",
     "output_type": "stream",
     "text": [
      "Train Epoch: 22 [710/710 (100%)]\tLoss: 0.916745, Acc: 59.30%\n",
      "\n",
      "Test set: Average loss: 0.0281, Accuracy: 63.40%\n",
      "\n",
      "Epoch 23\n",
      "-------------------------------\n"
     ]
    },
    {
     "name": "stderr",
     "output_type": "stream",
     "text": [
      "37it [04:39,  7.56s/it]\n"
     ]
    },
    {
     "name": "stdout",
     "output_type": "stream",
     "text": [
      "Train Epoch: 23 [1458/1458 (100%)]\tLoss: 0.572305, Acc: 73.80%\n",
      "\n",
      "Test set: Average loss: 0.0271, Accuracy: 66.88%\n",
      "\n",
      "Epoch 24\n",
      "-------------------------------\n"
     ]
    },
    {
     "name": "stderr",
     "output_type": "stream",
     "text": [
      "10it [01:13,  7.36s/it]\n"
     ]
    },
    {
     "name": "stdout",
     "output_type": "stream",
     "text": [
      "Train Epoch: 24 [381/381 (100%)]\tLoss: 0.665464, Acc: 54.86%\n",
      "\n",
      "Test set: Average loss: 0.0258, Accuracy: 66.11%\n",
      "\n",
      "Epoch 25\n",
      "-------------------------------\n"
     ]
    },
    {
     "name": "stderr",
     "output_type": "stream",
     "text": [
      "15it [01:53,  7.56s/it]\n"
     ]
    },
    {
     "name": "stdout",
     "output_type": "stream",
     "text": [
      "Train Epoch: 25 [587/587 (100%)]\tLoss: 0.792493, Acc: 65.42%\n",
      "\n",
      "Test set: Average loss: 0.0367, Accuracy: 40.46%\n",
      "\n",
      "Epoch 26\n",
      "-------------------------------\n"
     ]
    },
    {
     "name": "stderr",
     "output_type": "stream",
     "text": [
      "11it [01:23,  7.58s/it]\n"
     ]
    },
    {
     "name": "stdout",
     "output_type": "stream",
     "text": [
      "Train Epoch: 26 [434/434 (100%)]\tLoss: 1.021146, Acc: 62.67%\n",
      "\n",
      "Test set: Average loss: 0.0338, Accuracy: 47.94%\n",
      "\n",
      "Epoch 27\n",
      "-------------------------------\n"
     ]
    },
    {
     "name": "stderr",
     "output_type": "stream",
     "text": [
      "18it [02:20,  7.79s/it]\n"
     ]
    },
    {
     "name": "stdout",
     "output_type": "stream",
     "text": [
      "Train Epoch: 27 [710/710 (100%)]\tLoss: 0.666321, Acc: 58.03%\n",
      "\n",
      "Test set: Average loss: 0.0371, Accuracy: 37.89%\n",
      "\n",
      "Epoch 28\n",
      "-------------------------------\n"
     ]
    },
    {
     "name": "stderr",
     "output_type": "stream",
     "text": [
      "37it [04:42,  7.64s/it]\n"
     ]
    },
    {
     "name": "stdout",
     "output_type": "stream",
     "text": [
      "Train Epoch: 28 [1458/1458 (100%)]\tLoss: 0.419658, Acc: 76.20%\n",
      "\n",
      "Test set: Average loss: 0.0304, Accuracy: 65.98%\n",
      "\n",
      "Epoch 29\n",
      "-------------------------------\n"
     ]
    },
    {
     "name": "stderr",
     "output_type": "stream",
     "text": [
      "10it [01:14,  7.41s/it]\n"
     ]
    },
    {
     "name": "stdout",
     "output_type": "stream",
     "text": [
      "Train Epoch: 29 [381/381 (100%)]\tLoss: 0.987892, Acc: 55.38%\n",
      "\n",
      "Test set: Average loss: 0.0317, Accuracy: 56.31%\n",
      "\n",
      "Epoch 30\n",
      "-------------------------------\n"
     ]
    },
    {
     "name": "stderr",
     "output_type": "stream",
     "text": [
      "15it [01:53,  7.55s/it]\n"
     ]
    },
    {
     "name": "stdout",
     "output_type": "stream",
     "text": [
      "Train Epoch: 30 [587/587 (100%)]\tLoss: 1.064217, Acc: 65.42%\n",
      "\n",
      "Test set: Average loss: 0.0341, Accuracy: 50.00%\n",
      "\n",
      "Epoch 31\n",
      "-------------------------------\n"
     ]
    },
    {
     "name": "stderr",
     "output_type": "stream",
     "text": [
      "11it [01:22,  7.54s/it]\n"
     ]
    },
    {
     "name": "stdout",
     "output_type": "stream",
     "text": [
      "Train Epoch: 31 [434/434 (100%)]\tLoss: 0.801749, Acc: 64.06%\n",
      "\n",
      "Test set: Average loss: 0.0289, Accuracy: 53.99%\n",
      "\n",
      "Epoch 32\n",
      "-------------------------------\n"
     ]
    },
    {
     "name": "stderr",
     "output_type": "stream",
     "text": [
      "18it [02:17,  7.65s/it]\n"
     ]
    },
    {
     "name": "stdout",
     "output_type": "stream",
     "text": [
      "Train Epoch: 32 [710/710 (100%)]\tLoss: 0.860569, Acc: 57.61%\n",
      "\n",
      "Test set: Average loss: 0.0303, Accuracy: 56.19%\n",
      "\n",
      "Epoch 33\n",
      "-------------------------------\n"
     ]
    },
    {
     "name": "stderr",
     "output_type": "stream",
     "text": [
      "37it [04:42,  7.63s/it]\n"
     ]
    },
    {
     "name": "stdout",
     "output_type": "stream",
     "text": [
      "Train Epoch: 33 [1458/1458 (100%)]\tLoss: 0.421463, Acc: 75.24%\n",
      "\n",
      "Test set: Average loss: 0.0289, Accuracy: 62.11%\n",
      "\n",
      "Epoch 34\n",
      "-------------------------------\n"
     ]
    },
    {
     "name": "stderr",
     "output_type": "stream",
     "text": [
      "10it [01:15,  7.58s/it]\n"
     ]
    },
    {
     "name": "stdout",
     "output_type": "stream",
     "text": [
      "Train Epoch: 34 [381/381 (100%)]\tLoss: 1.078523, Acc: 56.17%\n",
      "\n",
      "Test set: Average loss: 0.0290, Accuracy: 59.15%\n",
      "\n",
      "Epoch 35\n",
      "-------------------------------\n"
     ]
    },
    {
     "name": "stderr",
     "output_type": "stream",
     "text": [
      "15it [01:53,  7.58s/it]\n"
     ]
    },
    {
     "name": "stdout",
     "output_type": "stream",
     "text": [
      "Train Epoch: 35 [587/587 (100%)]\tLoss: 0.849155, Acc: 63.37%\n",
      "\n",
      "Test set: Average loss: 0.0303, Accuracy: 57.99%\n",
      "\n",
      "Epoch 36\n",
      "-------------------------------\n"
     ]
    },
    {
     "name": "stderr",
     "output_type": "stream",
     "text": [
      "11it [01:24,  7.69s/it]\n"
     ]
    },
    {
     "name": "stdout",
     "output_type": "stream",
     "text": [
      "Train Epoch: 36 [434/434 (100%)]\tLoss: 0.994389, Acc: 65.67%\n",
      "\n",
      "Test set: Average loss: 0.0256, Accuracy: 59.28%\n",
      "\n",
      "Epoch 37\n",
      "-------------------------------\n"
     ]
    },
    {
     "name": "stderr",
     "output_type": "stream",
     "text": [
      "18it [02:16,  7.60s/it]\n"
     ]
    },
    {
     "name": "stdout",
     "output_type": "stream",
     "text": [
      "Train Epoch: 37 [710/710 (100%)]\tLoss: 0.977720, Acc: 60.56%\n",
      "\n",
      "Test set: Average loss: 0.0267, Accuracy: 64.95%\n",
      "\n",
      "Epoch 38\n",
      "-------------------------------\n"
     ]
    },
    {
     "name": "stderr",
     "output_type": "stream",
     "text": [
      "37it [04:47,  7.77s/it]\n"
     ]
    },
    {
     "name": "stdout",
     "output_type": "stream",
     "text": [
      "Train Epoch: 38 [1458/1458 (100%)]\tLoss: 0.623658, Acc: 78.33%\n",
      "\n",
      "Test set: Average loss: 0.0289, Accuracy: 63.27%\n",
      "\n",
      "Epoch 39\n",
      "-------------------------------\n"
     ]
    },
    {
     "name": "stderr",
     "output_type": "stream",
     "text": [
      "10it [01:13,  7.36s/it]\n"
     ]
    },
    {
     "name": "stdout",
     "output_type": "stream",
     "text": [
      "Train Epoch: 39 [381/381 (100%)]\tLoss: 0.705108, Acc: 58.01%\n",
      "\n",
      "Test set: Average loss: 0.0274, Accuracy: 62.37%\n",
      "\n",
      "Epoch 40\n",
      "-------------------------------\n"
     ]
    },
    {
     "name": "stderr",
     "output_type": "stream",
     "text": [
      "15it [01:53,  7.60s/it]\n"
     ]
    },
    {
     "name": "stdout",
     "output_type": "stream",
     "text": [
      "Train Epoch: 40 [587/587 (100%)]\tLoss: 1.356209, Acc: 64.05%\n",
      "\n",
      "Test set: Average loss: 0.0302, Accuracy: 60.95%\n",
      "\n",
      "Epoch 41\n",
      "-------------------------------\n"
     ]
    },
    {
     "name": "stderr",
     "output_type": "stream",
     "text": [
      "11it [01:23,  7.63s/it]\n"
     ]
    },
    {
     "name": "stdout",
     "output_type": "stream",
     "text": [
      "Train Epoch: 41 [434/434 (100%)]\tLoss: 0.693844, Acc: 65.44%\n",
      "\n",
      "Test set: Average loss: 0.0233, Accuracy: 66.49%\n",
      "\n",
      "Epoch 42\n",
      "-------------------------------\n"
     ]
    },
    {
     "name": "stderr",
     "output_type": "stream",
     "text": [
      "18it [02:17,  7.66s/it]\n"
     ]
    },
    {
     "name": "stdout",
     "output_type": "stream",
     "text": [
      "Train Epoch: 42 [710/710 (100%)]\tLoss: 0.693443, Acc: 60.56%\n",
      "\n",
      "Test set: Average loss: 0.0251, Accuracy: 67.14%\n",
      "\n",
      "Epoch 43\n",
      "-------------------------------\n"
     ]
    },
    {
     "name": "stderr",
     "output_type": "stream",
     "text": [
      "37it [04:41,  7.61s/it]\n"
     ]
    },
    {
     "name": "stdout",
     "output_type": "stream",
     "text": [
      "Train Epoch: 43 [1458/1458 (100%)]\tLoss: 0.715019, Acc: 77.30%\n",
      "\n",
      "Test set: Average loss: 0.0234, Accuracy: 68.69%\n",
      "\n",
      "Epoch 44\n",
      "-------------------------------\n"
     ]
    },
    {
     "name": "stderr",
     "output_type": "stream",
     "text": [
      "10it [01:13,  7.39s/it]\n"
     ]
    },
    {
     "name": "stdout",
     "output_type": "stream",
     "text": [
      "Train Epoch: 44 [381/381 (100%)]\tLoss: 0.845563, Acc: 56.69%\n",
      "\n",
      "Test set: Average loss: 0.0235, Accuracy: 70.36%\n",
      "\n",
      "Epoch 45\n",
      "-------------------------------\n"
     ]
    },
    {
     "name": "stderr",
     "output_type": "stream",
     "text": [
      "15it [01:53,  7.55s/it]\n"
     ]
    },
    {
     "name": "stdout",
     "output_type": "stream",
     "text": [
      "Train Epoch: 45 [587/587 (100%)]\tLoss: 0.898882, Acc: 63.71%\n",
      "\n",
      "Test set: Average loss: 0.0302, Accuracy: 61.21%\n",
      "\n",
      "Epoch 46\n",
      "-------------------------------\n"
     ]
    },
    {
     "name": "stderr",
     "output_type": "stream",
     "text": [
      "11it [01:23,  7.56s/it]\n"
     ]
    },
    {
     "name": "stdout",
     "output_type": "stream",
     "text": [
      "Train Epoch: 46 [434/434 (100%)]\tLoss: 1.025418, Acc: 67.51%\n",
      "\n",
      "Test set: Average loss: 0.0240, Accuracy: 64.82%\n",
      "\n",
      "Epoch 47\n",
      "-------------------------------\n"
     ]
    },
    {
     "name": "stderr",
     "output_type": "stream",
     "text": [
      "18it [02:16,  7.57s/it]\n"
     ]
    },
    {
     "name": "stdout",
     "output_type": "stream",
     "text": [
      "Train Epoch: 47 [710/710 (100%)]\tLoss: 0.817233, Acc: 58.45%\n",
      "\n",
      "Test set: Average loss: 0.0259, Accuracy: 64.56%\n",
      "\n",
      "Epoch 48\n",
      "-------------------------------\n"
     ]
    },
    {
     "name": "stderr",
     "output_type": "stream",
     "text": [
      "37it [04:43,  7.66s/it]\n"
     ]
    },
    {
     "name": "stdout",
     "output_type": "stream",
     "text": [
      "Train Epoch: 48 [1458/1458 (100%)]\tLoss: 0.550120, Acc: 77.30%\n",
      "\n",
      "Test set: Average loss: 0.0256, Accuracy: 63.40%\n",
      "\n",
      "Epoch 49\n",
      "-------------------------------\n"
     ]
    },
    {
     "name": "stderr",
     "output_type": "stream",
     "text": [
      "10it [01:14,  7.40s/it]\n"
     ]
    },
    {
     "name": "stdout",
     "output_type": "stream",
     "text": [
      "Train Epoch: 49 [381/381 (100%)]\tLoss: 1.415260, Acc: 56.69%\n",
      "\n",
      "Test set: Average loss: 0.0276, Accuracy: 62.11%\n",
      "\n",
      "Epoch 50\n",
      "-------------------------------\n"
     ]
    },
    {
     "name": "stderr",
     "output_type": "stream",
     "text": [
      "15it [01:54,  7.61s/it]\n"
     ]
    },
    {
     "name": "stdout",
     "output_type": "stream",
     "text": [
      "Train Epoch: 50 [587/587 (100%)]\tLoss: 0.823979, Acc: 63.88%\n",
      "\n",
      "Test set: Average loss: 0.0331, Accuracy: 55.03%\n",
      "\n",
      "Epoch 51\n",
      "-------------------------------\n"
     ]
    },
    {
     "name": "stderr",
     "output_type": "stream",
     "text": [
      "11it [01:24,  7.68s/it]\n"
     ]
    },
    {
     "name": "stdout",
     "output_type": "stream",
     "text": [
      "Train Epoch: 51 [434/434 (100%)]\tLoss: 1.027112, Acc: 64.75%\n",
      "\n",
      "Test set: Average loss: 0.0237, Accuracy: 66.75%\n",
      "\n",
      "Epoch 52\n",
      "-------------------------------\n"
     ]
    },
    {
     "name": "stderr",
     "output_type": "stream",
     "text": [
      "18it [02:17,  7.63s/it]\n"
     ]
    },
    {
     "name": "stdout",
     "output_type": "stream",
     "text": [
      "Train Epoch: 52 [710/710 (100%)]\tLoss: 1.115792, Acc: 56.20%\n",
      "\n",
      "Test set: Average loss: 0.0266, Accuracy: 63.53%\n",
      "\n",
      "Epoch 53\n",
      "-------------------------------\n"
     ]
    },
    {
     "name": "stderr",
     "output_type": "stream",
     "text": [
      "37it [04:43,  7.65s/it]\n"
     ]
    },
    {
     "name": "stdout",
     "output_type": "stream",
     "text": [
      "Train Epoch: 53 [1458/1458 (100%)]\tLoss: 0.547493, Acc: 77.91%\n",
      "\n",
      "Test set: Average loss: 0.0262, Accuracy: 62.11%\n",
      "\n",
      "Epoch 54\n",
      "-------------------------------\n"
     ]
    },
    {
     "name": "stderr",
     "output_type": "stream",
     "text": [
      "10it [01:14,  7.45s/it]\n"
     ]
    },
    {
     "name": "stdout",
     "output_type": "stream",
     "text": [
      "Train Epoch: 54 [381/381 (100%)]\tLoss: 1.063910, Acc: 62.20%\n",
      "\n",
      "Test set: Average loss: 0.0269, Accuracy: 62.50%\n",
      "\n",
      "Epoch 55\n",
      "-------------------------------\n"
     ]
    },
    {
     "name": "stderr",
     "output_type": "stream",
     "text": [
      "15it [01:53,  7.59s/it]\n"
     ]
    },
    {
     "name": "stdout",
     "output_type": "stream",
     "text": [
      "Train Epoch: 55 [587/587 (100%)]\tLoss: 0.837415, Acc: 61.84%\n",
      "\n",
      "Test set: Average loss: 0.0317, Accuracy: 59.41%\n",
      "\n",
      "Epoch 56\n",
      "-------------------------------\n"
     ]
    },
    {
     "name": "stderr",
     "output_type": "stream",
     "text": [
      "11it [01:23,  7.60s/it]\n"
     ]
    },
    {
     "name": "stdout",
     "output_type": "stream",
     "text": [
      "Train Epoch: 56 [434/434 (100%)]\tLoss: 1.107882, Acc: 63.36%\n",
      "\n",
      "Test set: Average loss: 0.0235, Accuracy: 68.69%\n",
      "\n",
      "Epoch 57\n",
      "-------------------------------\n"
     ]
    },
    {
     "name": "stderr",
     "output_type": "stream",
     "text": [
      "18it [02:16,  7.59s/it]\n"
     ]
    },
    {
     "name": "stdout",
     "output_type": "stream",
     "text": [
      "Train Epoch: 57 [710/710 (100%)]\tLoss: 0.860078, Acc: 58.31%\n",
      "\n",
      "Test set: Average loss: 0.0258, Accuracy: 66.37%\n",
      "\n",
      "Epoch 58\n",
      "-------------------------------\n"
     ]
    },
    {
     "name": "stderr",
     "output_type": "stream",
     "text": [
      "37it [04:41,  7.60s/it]\n"
     ]
    },
    {
     "name": "stdout",
     "output_type": "stream",
     "text": [
      "Train Epoch: 58 [1458/1458 (100%)]\tLoss: 0.282542, Acc: 80.04%\n",
      "\n",
      "Test set: Average loss: 0.0262, Accuracy: 62.89%\n",
      "\n",
      "Epoch 59\n",
      "-------------------------------\n"
     ]
    },
    {
     "name": "stderr",
     "output_type": "stream",
     "text": [
      "10it [01:13,  7.39s/it]\n"
     ]
    },
    {
     "name": "stdout",
     "output_type": "stream",
     "text": [
      "Train Epoch: 59 [381/381 (100%)]\tLoss: 1.106926, Acc: 60.10%\n",
      "\n",
      "Test set: Average loss: 0.0257, Accuracy: 64.95%\n",
      "\n",
      "Epoch 60\n",
      "-------------------------------\n"
     ]
    },
    {
     "name": "stderr",
     "output_type": "stream",
     "text": [
      "15it [01:53,  7.57s/it]\n"
     ]
    },
    {
     "name": "stdout",
     "output_type": "stream",
     "text": [
      "Train Epoch: 60 [587/587 (100%)]\tLoss: 1.237128, Acc: 62.18%\n",
      "\n",
      "Test set: Average loss: 0.0299, Accuracy: 61.60%\n",
      "\n",
      "Epoch 61\n",
      "-------------------------------\n"
     ]
    },
    {
     "name": "stderr",
     "output_type": "stream",
     "text": [
      "11it [01:24,  7.68s/it]\n"
     ]
    },
    {
     "name": "stdout",
     "output_type": "stream",
     "text": [
      "Train Epoch: 61 [434/434 (100%)]\tLoss: 1.014221, Acc: 62.21%\n",
      "\n",
      "Test set: Average loss: 0.0246, Accuracy: 66.88%\n",
      "\n",
      "Epoch 62\n",
      "-------------------------------\n"
     ]
    },
    {
     "name": "stderr",
     "output_type": "stream",
     "text": [
      "18it [02:17,  7.63s/it]\n"
     ]
    },
    {
     "name": "stdout",
     "output_type": "stream",
     "text": [
      "Train Epoch: 62 [710/710 (100%)]\tLoss: 0.825692, Acc: 57.32%\n",
      "\n",
      "Test set: Average loss: 0.0269, Accuracy: 64.30%\n",
      "\n",
      "Epoch 63\n",
      "-------------------------------\n"
     ]
    },
    {
     "name": "stderr",
     "output_type": "stream",
     "text": [
      "37it [04:42,  7.64s/it]\n"
     ]
    },
    {
     "name": "stdout",
     "output_type": "stream",
     "text": [
      "Train Epoch: 63 [1458/1458 (100%)]\tLoss: 0.754543, Acc: 80.66%\n",
      "\n",
      "Test set: Average loss: 0.0277, Accuracy: 58.38%\n",
      "\n",
      "Epoch 64\n",
      "-------------------------------\n"
     ]
    },
    {
     "name": "stderr",
     "output_type": "stream",
     "text": [
      "10it [01:15,  7.51s/it]\n"
     ]
    },
    {
     "name": "stdout",
     "output_type": "stream",
     "text": [
      "Train Epoch: 64 [381/381 (100%)]\tLoss: 1.412566, Acc: 60.89%\n",
      "\n",
      "Test set: Average loss: 0.0255, Accuracy: 65.34%\n",
      "\n",
      "Epoch 65\n",
      "-------------------------------\n"
     ]
    },
    {
     "name": "stderr",
     "output_type": "stream",
     "text": [
      "15it [01:53,  7.59s/it]\n"
     ]
    },
    {
     "name": "stdout",
     "output_type": "stream",
     "text": [
      "Train Epoch: 65 [587/587 (100%)]\tLoss: 0.967352, Acc: 63.20%\n",
      "\n",
      "Test set: Average loss: 0.0330, Accuracy: 55.41%\n",
      "\n",
      "Epoch 66\n",
      "-------------------------------\n"
     ]
    },
    {
     "name": "stderr",
     "output_type": "stream",
     "text": [
      "11it [01:23,  7.62s/it]\n"
     ]
    },
    {
     "name": "stdout",
     "output_type": "stream",
     "text": [
      "Train Epoch: 66 [434/434 (100%)]\tLoss: 1.223767, Acc: 65.90%\n",
      "\n",
      "Test set: Average loss: 0.0251, Accuracy: 65.59%\n",
      "\n",
      "Epoch 67\n",
      "-------------------------------\n"
     ]
    },
    {
     "name": "stderr",
     "output_type": "stream",
     "text": [
      "18it [02:16,  7.59s/it]\n"
     ]
    },
    {
     "name": "stdout",
     "output_type": "stream",
     "text": [
      "Train Epoch: 67 [710/710 (100%)]\tLoss: 0.935075, Acc: 55.49%\n",
      "\n",
      "Test set: Average loss: 0.0265, Accuracy: 63.53%\n",
      "\n",
      "Epoch 68\n",
      "-------------------------------\n"
     ]
    },
    {
     "name": "stderr",
     "output_type": "stream",
     "text": [
      "37it [04:42,  7.64s/it]\n"
     ]
    },
    {
     "name": "stdout",
     "output_type": "stream",
     "text": [
      "Train Epoch: 68 [1458/1458 (100%)]\tLoss: 0.565114, Acc: 80.45%\n",
      "\n",
      "Test set: Average loss: 0.0262, Accuracy: 61.86%\n",
      "\n",
      "Epoch 69\n",
      "-------------------------------\n"
     ]
    },
    {
     "name": "stderr",
     "output_type": "stream",
     "text": [
      "10it [01:13,  7.31s/it]\n"
     ]
    },
    {
     "name": "stdout",
     "output_type": "stream",
     "text": [
      "Train Epoch: 69 [381/381 (100%)]\tLoss: 1.132264, Acc: 61.42%\n",
      "\n",
      "Test set: Average loss: 0.0274, Accuracy: 61.34%\n",
      "\n",
      "Epoch 70\n",
      "-------------------------------\n"
     ]
    },
    {
     "name": "stderr",
     "output_type": "stream",
     "text": [
      "15it [01:52,  7.51s/it]\n"
     ]
    },
    {
     "name": "stdout",
     "output_type": "stream",
     "text": [
      "Train Epoch: 70 [587/587 (100%)]\tLoss: 0.788643, Acc: 62.86%\n",
      "\n",
      "Test set: Average loss: 0.0313, Accuracy: 59.02%\n",
      "\n",
      "Epoch 71\n",
      "-------------------------------\n"
     ]
    },
    {
     "name": "stderr",
     "output_type": "stream",
     "text": [
      "11it [01:24,  7.67s/it]\n"
     ]
    },
    {
     "name": "stdout",
     "output_type": "stream",
     "text": [
      "Train Epoch: 71 [434/434 (100%)]\tLoss: 0.867037, Acc: 67.51%\n",
      "\n",
      "Test set: Average loss: 0.0235, Accuracy: 68.56%\n",
      "\n",
      "Epoch 72\n",
      "-------------------------------\n"
     ]
    },
    {
     "name": "stderr",
     "output_type": "stream",
     "text": [
      "18it [02:16,  7.57s/it]\n"
     ]
    },
    {
     "name": "stdout",
     "output_type": "stream",
     "text": [
      "Train Epoch: 72 [710/710 (100%)]\tLoss: 0.858868, Acc: 57.46%\n",
      "\n",
      "Test set: Average loss: 0.0280, Accuracy: 61.73%\n",
      "\n",
      "Epoch 73\n",
      "-------------------------------\n"
     ]
    },
    {
     "name": "stderr",
     "output_type": "stream",
     "text": [
      "37it [04:41,  7.61s/it]\n"
     ]
    },
    {
     "name": "stdout",
     "output_type": "stream",
     "text": [
      "Train Epoch: 73 [1458/1458 (100%)]\tLoss: 0.690315, Acc: 80.66%\n",
      "\n",
      "Test set: Average loss: 0.0286, Accuracy: 57.47%\n",
      "\n",
      "Epoch 74\n",
      "-------------------------------\n"
     ]
    },
    {
     "name": "stderr",
     "output_type": "stream",
     "text": [
      "10it [01:13,  7.35s/it]\n"
     ]
    },
    {
     "name": "stdout",
     "output_type": "stream",
     "text": [
      "Train Epoch: 74 [381/381 (100%)]\tLoss: 1.193231, Acc: 60.37%\n",
      "\n",
      "Test set: Average loss: 0.0259, Accuracy: 64.05%\n",
      "\n",
      "Epoch 75\n",
      "-------------------------------\n"
     ]
    },
    {
     "name": "stderr",
     "output_type": "stream",
     "text": [
      "15it [01:53,  7.54s/it]\n"
     ]
    },
    {
     "name": "stdout",
     "output_type": "stream",
     "text": [
      "Train Epoch: 75 [587/587 (100%)]\tLoss: 1.058949, Acc: 62.35%\n",
      "\n",
      "Test set: Average loss: 0.0327, Accuracy: 57.35%\n",
      "\n",
      "Epoch 76\n",
      "-------------------------------\n"
     ]
    },
    {
     "name": "stderr",
     "output_type": "stream",
     "text": [
      "11it [01:25,  7.78s/it]\n"
     ]
    },
    {
     "name": "stdout",
     "output_type": "stream",
     "text": [
      "Train Epoch: 76 [434/434 (100%)]\tLoss: 0.941534, Acc: 66.13%\n",
      "\n",
      "Test set: Average loss: 0.0252, Accuracy: 64.95%\n",
      "\n",
      "Epoch 77\n",
      "-------------------------------\n"
     ]
    },
    {
     "name": "stderr",
     "output_type": "stream",
     "text": [
      "18it [02:16,  7.59s/it]\n"
     ]
    },
    {
     "name": "stdout",
     "output_type": "stream",
     "text": [
      "Train Epoch: 77 [710/710 (100%)]\tLoss: 0.900909, Acc: 52.96%\n",
      "\n",
      "Test set: Average loss: 0.0267, Accuracy: 64.95%\n",
      "\n",
      "Epoch 78\n",
      "-------------------------------\n"
     ]
    },
    {
     "name": "stderr",
     "output_type": "stream",
     "text": [
      "37it [04:42,  7.62s/it]\n"
     ]
    },
    {
     "name": "stdout",
     "output_type": "stream",
     "text": [
      "Train Epoch: 78 [1458/1458 (100%)]\tLoss: 0.397935, Acc: 81.28%\n",
      "\n",
      "Test set: Average loss: 0.0263, Accuracy: 62.76%\n",
      "\n",
      "Epoch 79\n",
      "-------------------------------\n"
     ]
    },
    {
     "name": "stderr",
     "output_type": "stream",
     "text": [
      "10it [01:13,  7.35s/it]\n"
     ]
    },
    {
     "name": "stdout",
     "output_type": "stream",
     "text": [
      "Train Epoch: 79 [381/381 (100%)]\tLoss: 1.057444, Acc: 60.63%\n",
      "\n",
      "Test set: Average loss: 0.0265, Accuracy: 63.14%\n",
      "\n",
      "Epoch 80\n",
      "-------------------------------\n"
     ]
    },
    {
     "name": "stderr",
     "output_type": "stream",
     "text": [
      "15it [01:52,  7.52s/it]\n"
     ]
    },
    {
     "name": "stdout",
     "output_type": "stream",
     "text": [
      "Train Epoch: 80 [587/587 (100%)]\tLoss: 0.771908, Acc: 65.25%\n",
      "\n",
      "Test set: Average loss: 0.0314, Accuracy: 58.51%\n",
      "\n"
     ]
    }
   ],
   "source": [
    "train([cnn_encoder, rnn_decoder], trainloader,testloader,loss_fn, learning_rate)"
   ]
  },
  {
   "cell_type": "code",
   "execution_count": 113,
   "id": "f7b66b04",
   "metadata": {},
   "outputs": [
    {
     "name": "stderr",
     "output_type": "stream",
     "text": [
      "C:\\Users\\ahaghighi\\AppData\\Local\\Temp\\ipykernel_7016\\4128556506.py:1: VisibleDeprecationWarning: Creating an ndarray from ragged nested sequences (which is a list-or-tuple of lists-or-tuples-or ndarrays with different lengths or shapes) is deprecated. If you meant to do this, you must specify 'dtype=object' when creating the ndarray.\n",
      "  A = np.array(train_loss_list)\n"
     ]
    }
   ],
   "source": [
    "A = np.array(train_loss_list)\n",
    "B = np.array(train_Acc_list)\n",
    "C = np.array(test_loss_list )\n",
    "D = np.array(test_Acc_list)"
   ]
  },
  {
   "cell_type": "code",
   "execution_count": 114,
   "id": "1c427d23",
   "metadata": {},
   "outputs": [
    {
     "data": {
      "text/plain": [
       "array([1.29032004, 1.21735692, 0.78612256, 1.57623601, 0.91975218,\n",
       "       0.94242823, 0.80646157, 0.76940924, 1.17654169, 0.86763138,\n",
       "       0.96752983, 1.04654133, 0.41024426, 1.30597448, 0.91016251,\n",
       "       0.86334932, 1.04240084, 0.47960615, 1.29882264, 0.73567551,\n",
       "       0.56487572, 0.91674519, 0.57230461, 0.66546386, 0.79249346,\n",
       "       1.02114582, 0.66632086, 0.41965798, 0.98789179, 1.06421721,\n",
       "       0.80174917, 0.86056924, 0.42146349, 1.07852268, 0.84915513,\n",
       "       0.99438936, 0.97771996, 0.62365764, 0.70510781, 1.3562088 ,\n",
       "       0.69384438, 0.693443  , 0.71501946, 0.84556317, 0.89888191,\n",
       "       1.02541828, 0.81723279, 0.55011952, 1.41525996, 0.82397944,\n",
       "       1.02711225, 1.11579216, 0.5474928 , 1.06390977, 0.8374154 ,\n",
       "       1.1078825 , 0.86007768, 0.2825422 , 1.1069262 , 1.23712814,\n",
       "       1.01422095, 0.82569242, 0.75454307, 1.41256595, 0.96735245,\n",
       "       1.22376657, 0.93507475, 0.56511402, 1.1322639 , 0.78864253,\n",
       "       0.8670373 , 0.85886776, 0.69031465, 1.19323063, 1.05894935,\n",
       "       0.94153357, 0.90090889, 0.397935  , 1.05744433, 0.77190769])"
      ]
     },
     "execution_count": 114,
     "metadata": {},
     "output_type": "execute_result"
    }
   ],
   "source": [
    "A1=[]\n",
    "for i in range(0,80):\n",
    "    A1.append(A[i][-1])\n",
    "    \n",
    "A1 = np.array(A1)\n",
    "A1"
   ]
  },
  {
   "cell_type": "code",
   "execution_count": 118,
   "id": "8e53f55d",
   "metadata": {},
   "outputs": [
    {
     "data": {
      "image/png": "[encoded data removed]",
      "text/plain": [
       "<Figure size 432x288 with 1 Axes>"
      ]
     },
     "metadata": {
      "needs_background": "light"
     },
     "output_type": "display_data"
    }
   ],
   "source": [
    "#plot train accuracy in each epoch\n",
    "import matplotlib.pyplot as plt\n",
    "%matplotlib inline\n",
    "dim1 = []\n",
    "dim1.extend(range(1, 81))\n",
    "plt.plot(dim1,train_Acc_list,label='Train Accuracy')\n",
    "plt.title('Train accuracy with cross entropy loss')\n",
    "plt.xlabel('epoch')\n",
    "plt.ylabel('Accuracy')\n",
    "plt.legend()\n",
    "plt.show()"
   ]
  },
  {
   "cell_type": "code",
   "execution_count": 132,
   "id": "b5871c00",
   "metadata": {},
   "outputs": [
    {
     "data": {
      "image/png": "[encoded data removed]",
      "text/plain": [
       "<Figure size 432x288 with 1 Axes>"
      ]
     },
     "metadata": {
      "needs_background": "light"
     },
     "output_type": "display_data"
    }
   ],
   "source": [
    "#plot train loss in each epoch\n",
    "# import matplotlib.pyplot as plt\n",
    "plt.plot(dim1,A1,label='Train loss')\n",
    "plt.title('Train loss with cross entropy loss')\n",
    "plt.xlabel('epoch')\n",
    "plt.ylabel('loss')\n",
    "plt.legend()\n",
    "plt.show()"
   ]
  },
  {
   "cell_type": "code",
   "execution_count": 133,
   "id": "9408b08b",
   "metadata": {},
   "outputs": [
    {
     "data": {
      "image/png": "[encoded data removed]",
      "text/plain": [
       "<Figure size 432x288 with 1 Axes>"
      ]
     },
     "metadata": {
      "needs_background": "light"
     },
     "output_type": "display_data"
    }
   ],
   "source": [
    "#plot test accuracy in each epochimport matplotlib.pyplot as plt\n",
    "plt.plot(dim1,test_Acc_list,label='test Accuracy')\n",
    "plt.title('test accuracy with cross entropy loss')\n",
    "plt.xlabel('epoch')\n",
    "plt.ylabel('Accuracy')\n",
    "plt.legend()\n",
    "plt.show()"
   ]
  },
  {
   "cell_type": "code",
   "execution_count": 134,
   "id": "b0f913a9",
   "metadata": {},
   "outputs": [
    {
     "data": {
      "image/png": "[encoded data removed]",
      "text/plain": [
       "<Figure size 432x288 with 1 Axes>"
      ]
     },
     "metadata": {
      "needs_background": "light"
     },
     "output_type": "display_data"
    }
   ],
   "source": [
    "#plot test loss in each epochimport matplotlib.pyplot as plt\n",
    "plt.plot(dim1,test_loss_list,label='Test loss')\n",
    "plt.title('test loss with cross entropy loss')\n",
    "plt.xlabel('epoch')\n",
    "plt.ylabel('loss')\n",
    "plt.legend()\n",
    "plt.show()"
   ]
  },
  {
   "cell_type": "code",
   "execution_count": null,
   "id": "0390d9d5",
   "metadata": {},
   "outputs": [],
   "source": []
  }
 ],
 "metadata": {
  "kernelspec": {
   "display_name": "Python 3 (ipykernel)",
   "language": "python",
   "name": "python3"
  },
  "language_info": {
   "codemirror_mode": {
    "name": "ipython",
    "version": 3
   },
   "file_extension": ".py",
   "mimetype": "text/x-python",
   "name": "python",
   "nbconvert_exporter": "python",
   "pygments_lexer": "ipython3",
   "version": "3.8.12"
  }
 },
 "nbformat": 4,
 "nbformat_minor": 5
}
