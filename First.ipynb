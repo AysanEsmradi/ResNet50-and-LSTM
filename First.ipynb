{
 "cells": [
  {
   "cell_type": "markdown",
   "id": "2323976d",
   "metadata": {},
   "source": [
    "### Problem 3: implement a temporal recognition network (e.g.,ResNet50+LSTM) to classify the surgical phase recognition"
   ]
  },
  {
   "cell_type": "code",
   "execution_count": 1,
   "id": "f7fcb4a6",
   "metadata": {},
   "outputs": [],
   "source": [
    "import random\n",
    "import shutil\n",
    "import time\n",
    "import warnings\n",
    "import sys\n",
    "import torch\n",
    "import torch.nn as nn\n",
    "import numpy as np\n",
    "import os\n",
    "import pandas as pd\n",
    "from PIL import Image\n",
    "import torch.nn.parallel\n",
    "from tqdm import tqdm\n",
    "import torch.backends.cudnn as cudnn\n",
    "import torch.distributed as dist\n",
    "import torch.optim as optim\n",
    "import torch.multiprocessing as mp\n",
    "import torch.utils.data\n",
    "import torch.utils.data.distributed\n",
    "import torchvision.transforms as transforms\n",
    "import torchvision.datasets as datasets\n",
    "from torch.utils.data import Dataset\n",
    "import matplotlib.pyplot as plt\n",
    "import torchvision.models as models\n",
    "from torch.utils.data import Dataset,DataLoader\n",
    "import torch.nn.functional as F\n",
    "from tqdm import tqdm\n",
    "from sklearn.metrics import accuracy_score\n",
    "import torch.nn.init as init\n",
    "from PIL import Image\n",
    "from torch.utils.tensorboard import SummaryWriter\n",
    "from torchvision import datasets, transforms\n",
    "from sklearn.metrics import accuracy_score\n",
    "from sklearn.metrics import precision_score\n",
    "from sklearn.metrics import recall_score\n"
   ]
  },
  {
   "cell_type": "code",
   "execution_count": 3,
   "id": "1a6f56f5",
   "metadata": {},
   "outputs": [],
   "source": [
    "#dataset\n",
    "import csv\n",
    "class Surgical(Dataset): \n",
    "\n",
    "    def __init__(self, root=\"./datas\", train=True, transform=None, video=0):\n",
    "        self.train = train\n",
    "        self.video = str(video)\n",
    "        if(self.train):\n",
    "\n",
    "            Phase_path = \"./datas/annotation/video_{number}.csv\".format(number=self.video)\n",
    "            self.phasepath = os.path.join(Phase_path)\n",
    "\n",
    "            frame_path = \"./datas/{number}\".format(number=self.video)\n",
    "            self.root = os.path.join(frame_path)\n",
    "            #video_41 is test file.\n",
    "        else:\n",
    "            self.phasepath = os.path.join(\"./datas/annotation/video_41.csv\")\n",
    "            self.root = os.path.join(\"./datas/41\")\n",
    "        # Transforms\n",
    "        self.transform = transform\n",
    "\n",
    "\n",
    "    def __getitem__(self, index):\n",
    " \n",
    "        csv = pd.read_csv(self.phasepath)\n",
    "        data = csv \n",
    "        label = data.iloc[index, 1]\n",
    "        image = Image.open(os.path.join(self.root, data.iloc[index, 0]))\n",
    "        image = self.transform(image)    \n",
    "        return image, label\n",
    "\n",
    "\n",
    "    def __len__(self):\n",
    "        csv = pd.read_csv(self.phasepath)\n",
    "        return len(csv)\n"
   ]
  },
  {
   "cell_type": "code",
   "execution_count": 4,
   "id": "c25f8056",
   "metadata": {},
   "outputs": [],
   "source": [
    "device = torch.device(\"cuda\" if torch.cuda.is_available() else \"cpu\")\n",
    "epochs =80\n",
    "#sequence_length = 3\n",
    "learning_rate = 5e-4\n",
    "batch_size = 50"
   ]
  },
  {
   "cell_type": "code",
   "execution_count": 5,
   "id": "90bc7549",
   "metadata": {},
   "outputs": [],
   "source": [
    "train_transform = transforms.Compose([transforms.RandomRotation(35),\n",
    "                                      transforms.RandomVerticalFlip(),\n",
    "                                      transforms.RandomHorizontalFlip(),\n",
    "                                      transforms.RandomAffine(180, translate=[0.2, 0.2], scale=[0.8, 1.2]),\n",
    "                                      transforms.ColorJitter(0.02, 0.02, 0.02, 0.01),\n",
    "                                      transforms.RandomResizedCrop(200),\n",
    "                                      transforms.ToTensor()])\n",
    "test_transform = transforms.Compose([transforms.Resize(200),\n",
    "                                     transforms.ToTensor()])\n",
    "\n",
    "\n",
    "trainset_1 = Surgical(train=True, transform=train_transform, video=1)  \n",
    "trainset_2 = Surgical(train=True, transform=train_transform, video=2)\n",
    "trainset_3 = Surgical(train=True, transform=train_transform, video=3)\n",
    "trainset_4 = Surgical(train=True, transform=train_transform, video=4)\n",
    "trainset_5 = Surgical(train=True, transform=train_transform, video=5)\n",
    "testset = Surgical(train=False, transform=test_transform)"
   ]
  },
  {
   "cell_type": "code",
   "execution_count": 6,
   "id": "5acbdf87",
   "metadata": {},
   "outputs": [],
   "source": [
    "trainloader_1 = torch.utils.data.DataLoader(trainset_1, batch_size=batch_size,\n",
    "                                          shuffle=True, pin_memory=True)\n",
    "trainloader_2 = torch.utils.data.DataLoader(trainset_2, batch_size=batch_size,\n",
    "                                          shuffle=True, pin_memory=True)\n",
    "trainloader_3 = torch.utils.data.DataLoader(trainset_3, batch_size=batch_size,\n",
    "                                          shuffle=True, pin_memory=True)\n",
    "trainloader_4 = torch.utils.data.DataLoader(trainset_4, batch_size=batch_size,\n",
    "                                          shuffle=True, pin_memory=True)\n",
    "trainloader_5 = torch.utils.data.DataLoader(trainset_5, batch_size=batch_size,\n",
    "                                          shuffle=True, pin_memory=True)                                                                                                                                          \n",
    "testloader = torch.utils.data.DataLoader(testset, batch_size=batch_size,\n",
    "                                        shuffle=False, pin_memory=True)"
   ]
  },
  {
   "cell_type": "code",
   "execution_count": 8,
   "id": "81c869e3",
   "metadata": {},
   "outputs": [],
   "source": [
    "from torchvision.models import resnet\n",
    "\n",
    "resnet.model_urls[\"resnet50\"] = \"https://download.pytorch.org/models/resnet50-11ad3fa6.pth\"\n",
    "   \n",
    "  # Initialize the model using the legacy API\n",
    "model = resnet.resnet50(pretrained=True)\n",
    "model.fc = nn.Sequential(\n",
    "    nn.Dropout(0.5),\n",
    "    nn.Linear(model.fc.in_features, 7)\n",
    ")\n",
    "model = model.to(device)\n",
    "#print(model)"
   ]
  },
  {
   "cell_type": "code",
   "execution_count": 9,
   "id": "f32247c3",
   "metadata": {},
   "outputs": [],
   "source": [
    "#loss\n",
    "loss_fn= nn.CrossEntropyLoss().to(device)"
   ]
  },
  {
   "cell_type": "code",
   "execution_count": 10,
   "id": "0e1b3f3f",
   "metadata": {},
   "outputs": [],
   "source": [
    "# Train \n",
    "epochs =80\n",
    "#sequence_length = 3\n",
    "learning_rate = 5e-4\n",
    "batch_size = 50\n",
    "max_acc = 0\n",
    "train_Acc_list = []\n",
    "train_loss_list = []\n",
    "test_Acc_list = []\n",
    "test_Prec_list = []\n",
    "test_rec_list = []\n",
    "test_loss_list = []\n",
    "train_path = \"train.path\"\n",
    "test_path = \"test.path\"\n",
    "trainloader = trainloader_1\n",
    "def train(model, trainloader,testloader,loss_fn, learning_rate,max_acc):\n",
    "    for epoch in range(1, epochs+1):\n",
    "        print(f\"Epoch {epoch}\\n-------------------------------\")\n",
    "        if epoch % 10 == 0:\n",
    "            learning_rate = learning_rate * 0.5\n",
    "            optimizer = optim.Adam(model.parameters(), learning_rate, weight_decay=1e-5)\n",
    "        else:\n",
    "            optimizer = optim.Adam(model.parameters(), learning_rate, weight_decay=1e-5)\n",
    "\n",
    "        model.train()\n",
    "\n",
    "        t_loss = 0\n",
    "        correct = 0\n",
    "        current = 0\n",
    "        \n",
    "        number = epoch % 10\n",
    "        if number > 5:\n",
    "            number -= 5\n",
    "        if number == 1:\n",
    "            trainset = trainset_1\n",
    "            trainloader = trainloader_1\n",
    "        elif number == 2:\n",
    "            trainset = trainset_2\n",
    "            trainloader = trainloader_2\n",
    "        elif number == 3:\n",
    "            trainset = trainset_3\n",
    "            trainloader = trainloader_3\n",
    "        elif number == 4:\n",
    "            trainset = trainset_4\n",
    "            trainloader = trainloader_4\n",
    "        else:\n",
    "            trainset = trainset_5\n",
    "            trainloader = trainloader_5\n",
    "    \n",
    "        \n",
    "        for batch_idx, (data,target) in tqdm(enumerate(trainloader)):\n",
    "            optimizer.zero_grad()\n",
    "\n",
    "            X, y = data, target\n",
    "\n",
    "            X = X.to(device)\n",
    "            y = y.to(device)\n",
    "        \n",
    "            output = model(X)\n",
    "        \n",
    "            loss = loss_fn(output, y)\n",
    "        \n",
    "            loss.backward()\n",
    "            optimizer.step()\n",
    "            pred = torch.argmax(output, dim=1)\n",
    "        \n",
    "            t_loss += loss.item()\n",
    "            correct += torch.sum(pred == y)\n",
    "            \n",
    "        train_loss = t_loss/len(trainset)\n",
    "        train_acc = correct/len(trainset)  \n",
    "        writer.add_scalar(\"Train Loss\", train_loss, epoch)\n",
    "        writer.add_scalar(\"Train Accuracy\", train_acc, epoch)\n",
    "        print('=>train accuracy: {:.4f}'.format(train_acc))\n",
    "        print('=>train loss: {:.4f}'.format(train_loss))\n",
    "        train_Acc_list.append(train_acc)\n",
    "        train_loss_list.append(train_loss)\n",
    "        if epoch % 20 == 0:\n",
    "            torch.save(model.state_dict(), train_path)\n",
    "        test(model, testloader, epoch,loss_fn,max_acc) \n",
    "   "
   ]
  },
  {
   "cell_type": "code",
   "execution_count": 11,
   "id": "d753b4b9",
   "metadata": {},
   "outputs": [],
   "source": [
    "def test(model, testloader, epoch,loss_fn,max_acc) :\n",
    "    model.eval()\n",
    "    gt_list = []\n",
    "    pred_list = []\n",
    "    te_loss= 0\n",
    "    correct = 0 \n",
    "    for _, (data,target) in enumerate(testloader):\n",
    "        X, y = data, target\n",
    "        X = X.to(device)\n",
    "        y = y.to(device)\n",
    "        output = model(X)\n",
    "        pred = torch.argmax(output, dim=1)\n",
    "        pred = pred.cpu()\n",
    "        pred_list.extend(pred)\n",
    "        gt_list.extend(y)\n",
    "        te_loss += loss_fn(output, y).item()\n",
    "    test_acc = accuracy_score(gt_list, pred_list)\n",
    "    if test_acc > max_acc:\n",
    "        max_acc = test_acc\n",
    "        torch.save(model.state_dict(), test_path)     \n",
    "            \n",
    "    test_loss = te_loss/len(testset)\n",
    "    writer.add_scalar(\"Test Accuracy\", test_acc, epoch)\n",
    "    writer.add_scalar(\"Test Loss\", test_loss, epoch)\n",
    "\n",
    "    print('=>test accuracy: {:.4f}'.format(test_acc))\n",
    "    print('=>test loss: {:.4f}'.format(test_loss))\n",
    "    test_Acc_list.append(test_acc)\n",
    "    test_loss_list.append(test_loss)"
   ]
  },
  {
   "cell_type": "code",
   "execution_count": 12,
   "id": "300323d1",
   "metadata": {},
   "outputs": [
    {
     "name": "stdout",
     "output_type": "stream",
     "text": [
      "Epoch 1\n",
      "-------------------------------\n"
     ]
    },
    {
     "name": "stderr",
     "output_type": "stream",
     "text": [
      "9it [01:02,  7.00s/it]\n"
     ]
    },
    {
     "name": "stdout",
     "output_type": "stream",
     "text": [
      "=>train accuracy: 0.4286\n",
      "=>train loss: 0.0321\n",
      "=>test accuracy: 0.4008\n",
      "=>test loss: 0.0459\n",
      "Epoch 2\n",
      "-------------------------------\n"
     ]
    },
    {
     "name": "stderr",
     "output_type": "stream",
     "text": [
      "15it [01:38,  6.56s/it]\n"
     ]
    },
    {
     "name": "stdout",
     "output_type": "stream",
     "text": [
      "=>train accuracy: 0.5183\n",
      "=>train loss: 0.0282\n",
      "=>test accuracy: 0.2938\n",
      "=>test loss: 0.0338\n",
      "Epoch 3\n",
      "-------------------------------\n"
     ]
    },
    {
     "name": "stderr",
     "output_type": "stream",
     "text": [
      "30it [03:20,  6.67s/it]\n"
     ]
    },
    {
     "name": "stdout",
     "output_type": "stream",
     "text": [
      "=>train accuracy: 0.7243\n",
      "=>train loss: 0.0183\n",
      "=>test accuracy: 0.4021\n",
      "=>test loss: 0.0326\n",
      "Epoch 4\n",
      "-------------------------------\n"
     ]
    },
    {
     "name": "stderr",
     "output_type": "stream",
     "text": [
      "8it [00:53,  6.63s/it]\n"
     ]
    },
    {
     "name": "stdout",
     "output_type": "stream",
     "text": [
      "=>train accuracy: 0.4042\n",
      "=>train loss: 0.0366\n",
      "=>test accuracy: 0.4678\n",
      "=>test loss: 0.0332\n",
      "Epoch 5\n",
      "-------------------------------\n"
     ]
    },
    {
     "name": "stderr",
     "output_type": "stream",
     "text": [
      "12it [01:21,  6.83s/it]\n"
     ]
    },
    {
     "name": "stdout",
     "output_type": "stream",
     "text": [
      "=>train accuracy: 0.4906\n",
      "=>train loss: 0.0275\n",
      "=>test accuracy: 0.3093\n",
      "=>test loss: 0.0382\n",
      "Epoch 6\n",
      "-------------------------------\n"
     ]
    },
    {
     "name": "stderr",
     "output_type": "stream",
     "text": [
      "9it [01:00,  6.74s/it]\n"
     ]
    },
    {
     "name": "stdout",
     "output_type": "stream",
     "text": [
      "=>train accuracy: 0.6359\n",
      "=>train loss: 0.0217\n",
      "=>test accuracy: 0.4523\n",
      "=>test loss: 0.0496\n",
      "Epoch 7\n",
      "-------------------------------\n"
     ]
    },
    {
     "name": "stderr",
     "output_type": "stream",
     "text": [
      "15it [01:38,  6.59s/it]\n"
     ]
    },
    {
     "name": "stdout",
     "output_type": "stream",
     "text": [
      "=>train accuracy: 0.5155\n",
      "=>train loss: 0.0278\n",
      "=>test accuracy: 0.4626\n",
      "=>test loss: 0.0289\n",
      "Epoch 8\n",
      "-------------------------------\n"
     ]
    },
    {
     "name": "stderr",
     "output_type": "stream",
     "text": [
      "30it [03:20,  6.67s/it]\n"
     ]
    },
    {
     "name": "stdout",
     "output_type": "stream",
     "text": [
      "=>train accuracy: 0.7730\n",
      "=>train loss: 0.0151\n",
      "=>test accuracy: 0.2758\n",
      "=>test loss: 0.0481\n",
      "Epoch 9\n",
      "-------------------------------\n"
     ]
    },
    {
     "name": "stderr",
     "output_type": "stream",
     "text": [
      "8it [00:52,  6.53s/it]\n"
     ]
    },
    {
     "name": "stdout",
     "output_type": "stream",
     "text": [
      "=>train accuracy: 0.4619\n",
      "=>train loss: 0.0355\n",
      "=>test accuracy: 0.4381\n",
      "=>test loss: 0.0328\n",
      "Epoch 10\n",
      "-------------------------------\n"
     ]
    },
    {
     "name": "stderr",
     "output_type": "stream",
     "text": [
      "12it [01:20,  6.75s/it]\n"
     ]
    },
    {
     "name": "stdout",
     "output_type": "stream",
     "text": [
      "=>train accuracy: 0.6354\n",
      "=>train loss: 0.0220\n",
      "=>test accuracy: 0.2629\n",
      "=>test loss: 0.0539\n",
      "Epoch 11\n",
      "-------------------------------\n"
     ]
    },
    {
     "name": "stderr",
     "output_type": "stream",
     "text": [
      "9it [00:59,  6.64s/it]\n"
     ]
    },
    {
     "name": "stdout",
     "output_type": "stream",
     "text": [
      "=>train accuracy: 0.6521\n",
      "=>train loss: 0.0203\n",
      "=>test accuracy: 0.3982\n",
      "=>test loss: 0.0403\n",
      "Epoch 12\n",
      "-------------------------------\n"
     ]
    },
    {
     "name": "stderr",
     "output_type": "stream",
     "text": [
      "15it [01:38,  6.55s/it]\n"
     ]
    },
    {
     "name": "stdout",
     "output_type": "stream",
     "text": [
      "=>train accuracy: 0.5239\n",
      "=>train loss: 0.0246\n",
      "=>test accuracy: 0.5464\n",
      "=>test loss: 0.0265\n",
      "Epoch 13\n",
      "-------------------------------\n"
     ]
    },
    {
     "name": "stderr",
     "output_type": "stream",
     "text": [
      "30it [03:21,  6.73s/it]\n"
     ]
    },
    {
     "name": "stdout",
     "output_type": "stream",
     "text": [
      "=>train accuracy: 0.7840\n",
      "=>train loss: 0.0136\n",
      "=>test accuracy: 0.4729\n",
      "=>test loss: 0.0266\n",
      "Epoch 14\n",
      "-------------------------------\n"
     ]
    },
    {
     "name": "stderr",
     "output_type": "stream",
     "text": [
      "8it [00:53,  6.66s/it]\n"
     ]
    },
    {
     "name": "stdout",
     "output_type": "stream",
     "text": [
      "=>train accuracy: 0.4961\n",
      "=>train loss: 0.0311\n",
      "=>test accuracy: 0.5992\n",
      "=>test loss: 0.0232\n",
      "Epoch 15\n",
      "-------------------------------\n"
     ]
    },
    {
     "name": "stderr",
     "output_type": "stream",
     "text": [
      "12it [01:21,  6.78s/it]\n"
     ]
    },
    {
     "name": "stdout",
     "output_type": "stream",
     "text": [
      "=>train accuracy: 0.6610\n",
      "=>train loss: 0.0211\n",
      "=>test accuracy: 0.5219\n",
      "=>test loss: 0.0287\n",
      "Epoch 16\n",
      "-------------------------------\n"
     ]
    },
    {
     "name": "stderr",
     "output_type": "stream",
     "text": [
      "9it [01:00,  6.71s/it]\n"
     ]
    },
    {
     "name": "stdout",
     "output_type": "stream",
     "text": [
      "=>train accuracy: 0.6613\n",
      "=>train loss: 0.0179\n",
      "=>test accuracy: 0.4768\n",
      "=>test loss: 0.0267\n",
      "Epoch 17\n",
      "-------------------------------\n"
     ]
    },
    {
     "name": "stderr",
     "output_type": "stream",
     "text": [
      "15it [01:37,  6.51s/it]\n"
     ]
    },
    {
     "name": "stdout",
     "output_type": "stream",
     "text": [
      "=>train accuracy: 0.6211\n",
      "=>train loss: 0.0218\n",
      "=>test accuracy: 0.4884\n",
      "=>test loss: 0.0296\n",
      "Epoch 18\n",
      "-------------------------------\n"
     ]
    },
    {
     "name": "stderr",
     "output_type": "stream",
     "text": [
      "30it [03:21,  6.73s/it]\n"
     ]
    },
    {
     "name": "stdout",
     "output_type": "stream",
     "text": [
      "=>train accuracy: 0.8134\n",
      "=>train loss: 0.0119\n",
      "=>test accuracy: 0.5631\n",
      "=>test loss: 0.0235\n",
      "Epoch 19\n",
      "-------------------------------\n"
     ]
    },
    {
     "name": "stderr",
     "output_type": "stream",
     "text": [
      "8it [00:53,  6.66s/it]\n"
     ]
    },
    {
     "name": "stdout",
     "output_type": "stream",
     "text": [
      "=>train accuracy: 0.4961\n",
      "=>train loss: 0.0283\n",
      "=>test accuracy: 0.5696\n",
      "=>test loss: 0.0237\n",
      "Epoch 20\n",
      "-------------------------------\n"
     ]
    },
    {
     "name": "stderr",
     "output_type": "stream",
     "text": [
      "12it [01:21,  6.79s/it]\n"
     ]
    },
    {
     "name": "stdout",
     "output_type": "stream",
     "text": [
      "=>train accuracy: 0.6593\n",
      "=>train loss: 0.0194\n",
      "=>test accuracy: 0.5812\n",
      "=>test loss: 0.0256\n",
      "Epoch 21\n",
      "-------------------------------\n"
     ]
    },
    {
     "name": "stderr",
     "output_type": "stream",
     "text": [
      "9it [00:59,  6.65s/it]\n"
     ]
    },
    {
     "name": "stdout",
     "output_type": "stream",
     "text": [
      "=>train accuracy: 0.7396\n",
      "=>train loss: 0.0152\n",
      "=>test accuracy: 0.5941\n",
      "=>test loss: 0.0245\n",
      "Epoch 22\n",
      "-------------------------------\n"
     ]
    },
    {
     "name": "stderr",
     "output_type": "stream",
     "text": [
      "15it [01:37,  6.52s/it]\n"
     ]
    },
    {
     "name": "stdout",
     "output_type": "stream",
     "text": [
      "=>train accuracy: 0.6211\n",
      "=>train loss: 0.0215\n",
      "=>test accuracy: 0.6662\n",
      "=>test loss: 0.0217\n",
      "Epoch 23\n",
      "-------------------------------\n"
     ]
    },
    {
     "name": "stderr",
     "output_type": "stream",
     "text": [
      "30it [03:21,  6.71s/it]\n"
     ]
    },
    {
     "name": "stdout",
     "output_type": "stream",
     "text": [
      "=>train accuracy: 0.8409\n",
      "=>train loss: 0.0107\n",
      "=>test accuracy: 0.6379\n",
      "=>test loss: 0.0207\n",
      "Epoch 24\n",
      "-------------------------------\n"
     ]
    },
    {
     "name": "stderr",
     "output_type": "stream",
     "text": [
      "8it [00:52,  6.61s/it]\n"
     ]
    },
    {
     "name": "stdout",
     "output_type": "stream",
     "text": [
      "=>train accuracy: 0.5407\n",
      "=>train loss: 0.0273\n",
      "=>test accuracy: 0.6353\n",
      "=>test loss: 0.0209\n",
      "Epoch 25\n",
      "-------------------------------\n"
     ]
    },
    {
     "name": "stderr",
     "output_type": "stream",
     "text": [
      "12it [01:21,  6.82s/it]\n"
     ]
    },
    {
     "name": "stdout",
     "output_type": "stream",
     "text": [
      "=>train accuracy: 0.7087\n",
      "=>train loss: 0.0176\n",
      "=>test accuracy: 0.5490\n",
      "=>test loss: 0.0242\n",
      "Epoch 26\n",
      "-------------------------------\n"
     ]
    },
    {
     "name": "stderr",
     "output_type": "stream",
     "text": [
      "9it [01:03,  7.06s/it]\n"
     ]
    },
    {
     "name": "stdout",
     "output_type": "stream",
     "text": [
      "=>train accuracy: 0.7465\n",
      "=>train loss: 0.0146\n",
      "=>test accuracy: 0.5889\n",
      "=>test loss: 0.0231\n",
      "Epoch 27\n",
      "-------------------------------\n"
     ]
    },
    {
     "name": "stderr",
     "output_type": "stream",
     "text": [
      "15it [01:44,  6.96s/it]\n"
     ]
    },
    {
     "name": "stdout",
     "output_type": "stream",
     "text": [
      "=>train accuracy: 0.6648\n",
      "=>train loss: 0.0191\n",
      "=>test accuracy: 0.5915\n",
      "=>test loss: 0.0225\n",
      "Epoch 28\n",
      "-------------------------------\n"
     ]
    },
    {
     "name": "stderr",
     "output_type": "stream",
     "text": [
      "30it [03:37,  7.25s/it]\n"
     ]
    },
    {
     "name": "stdout",
     "output_type": "stream",
     "text": [
      "=>train accuracy: 0.8416\n",
      "=>train loss: 0.0103\n",
      "=>test accuracy: 0.6894\n",
      "=>test loss: 0.0208\n",
      "Epoch 29\n",
      "-------------------------------\n"
     ]
    },
    {
     "name": "stderr",
     "output_type": "stream",
     "text": [
      "8it [00:57,  7.19s/it]\n"
     ]
    },
    {
     "name": "stdout",
     "output_type": "stream",
     "text": [
      "=>train accuracy: 0.5564\n",
      "=>train loss: 0.0251\n",
      "=>test accuracy: 0.6340\n",
      "=>test loss: 0.0214\n",
      "Epoch 30\n",
      "-------------------------------\n"
     ]
    },
    {
     "name": "stderr",
     "output_type": "stream",
     "text": [
      "12it [01:27,  7.30s/it]\n"
     ]
    },
    {
     "name": "stdout",
     "output_type": "stream",
     "text": [
      "=>train accuracy: 0.7070\n",
      "=>train loss: 0.0179\n",
      "=>test accuracy: 0.6263\n",
      "=>test loss: 0.0231\n",
      "Epoch 31\n",
      "-------------------------------\n"
     ]
    },
    {
     "name": "stderr",
     "output_type": "stream",
     "text": [
      "9it [01:05,  7.27s/it]\n"
     ]
    },
    {
     "name": "stdout",
     "output_type": "stream",
     "text": [
      "=>train accuracy: 0.7719\n",
      "=>train loss: 0.0129\n",
      "=>test accuracy: 0.5941\n",
      "=>test loss: 0.0228\n",
      "Epoch 32\n",
      "-------------------------------\n"
     ]
    },
    {
     "name": "stderr",
     "output_type": "stream",
     "text": [
      "15it [01:46,  7.13s/it]\n"
     ]
    },
    {
     "name": "stdout",
     "output_type": "stream",
     "text": [
      "=>train accuracy: 0.6761\n",
      "=>train loss: 0.0163\n",
      "=>test accuracy: 0.6778\n",
      "=>test loss: 0.0195\n",
      "Epoch 33\n",
      "-------------------------------\n"
     ]
    },
    {
     "name": "stderr",
     "output_type": "stream",
     "text": [
      "30it [03:40,  7.36s/it]\n"
     ]
    },
    {
     "name": "stdout",
     "output_type": "stream",
     "text": [
      "=>train accuracy: 0.8745\n",
      "=>train loss: 0.0093\n",
      "=>test accuracy: 0.7242\n",
      "=>test loss: 0.0183\n",
      "Epoch 34\n",
      "-------------------------------\n"
     ]
    },
    {
     "name": "stderr",
     "output_type": "stream",
     "text": [
      "8it [00:58,  7.26s/it]\n"
     ]
    },
    {
     "name": "stdout",
     "output_type": "stream",
     "text": [
      "=>train accuracy: 0.6194\n",
      "=>train loss: 0.0214\n",
      "=>test accuracy: 0.6778\n",
      "=>test loss: 0.0204\n",
      "Epoch 35\n",
      "-------------------------------\n"
     ]
    },
    {
     "name": "stderr",
     "output_type": "stream",
     "text": [
      "12it [01:29,  7.43s/it]\n"
     ]
    },
    {
     "name": "stdout",
     "output_type": "stream",
     "text": [
      "=>train accuracy: 0.6951\n",
      "=>train loss: 0.0181\n",
      "=>test accuracy: 0.6353\n",
      "=>test loss: 0.0227\n",
      "Epoch 36\n",
      "-------------------------------\n"
     ]
    },
    {
     "name": "stderr",
     "output_type": "stream",
     "text": [
      "9it [01:06,  7.38s/it]\n"
     ]
    },
    {
     "name": "stdout",
     "output_type": "stream",
     "text": [
      "=>train accuracy: 0.7512\n",
      "=>train loss: 0.0128\n",
      "=>test accuracy: 0.5412\n",
      "=>test loss: 0.0255\n",
      "Epoch 37\n",
      "-------------------------------\n"
     ]
    },
    {
     "name": "stderr",
     "output_type": "stream",
     "text": [
      "15it [01:48,  7.20s/it]\n"
     ]
    },
    {
     "name": "stdout",
     "output_type": "stream",
     "text": [
      "=>train accuracy: 0.6873\n",
      "=>train loss: 0.0171\n",
      "=>test accuracy: 0.6662\n",
      "=>test loss: 0.0207\n",
      "Epoch 38\n",
      "-------------------------------\n"
     ]
    },
    {
     "name": "stderr",
     "output_type": "stream",
     "text": [
      "30it [03:42,  7.41s/it]\n"
     ]
    },
    {
     "name": "stdout",
     "output_type": "stream",
     "text": [
      "=>train accuracy: 0.8765\n",
      "=>train loss: 0.0088\n",
      "=>test accuracy: 0.6933\n",
      "=>test loss: 0.0193\n",
      "Epoch 39\n",
      "-------------------------------\n"
     ]
    },
    {
     "name": "stderr",
     "output_type": "stream",
     "text": [
      "8it [00:57,  7.23s/it]\n"
     ]
    },
    {
     "name": "stdout",
     "output_type": "stream",
     "text": [
      "=>train accuracy: 0.6325\n",
      "=>train loss: 0.0203\n",
      "=>test accuracy: 0.7126\n",
      "=>test loss: 0.0197\n",
      "Epoch 40\n",
      "-------------------------------\n"
     ]
    },
    {
     "name": "stderr",
     "output_type": "stream",
     "text": [
      "12it [01:28,  7.40s/it]\n"
     ]
    },
    {
     "name": "stdout",
     "output_type": "stream",
     "text": [
      "=>train accuracy: 0.6985\n",
      "=>train loss: 0.0181\n",
      "=>test accuracy: 0.7397\n",
      "=>test loss: 0.0198\n",
      "Epoch 41\n",
      "-------------------------------\n"
     ]
    },
    {
     "name": "stderr",
     "output_type": "stream",
     "text": [
      "9it [01:05,  7.29s/it]\n"
     ]
    },
    {
     "name": "stdout",
     "output_type": "stream",
     "text": [
      "=>train accuracy: 0.7097\n",
      "=>train loss: 0.0129\n",
      "=>test accuracy: 0.7036\n",
      "=>test loss: 0.0196\n",
      "Epoch 42\n",
      "-------------------------------\n"
     ]
    },
    {
     "name": "stderr",
     "output_type": "stream",
     "text": [
      "15it [01:46,  7.13s/it]\n"
     ]
    },
    {
     "name": "stdout",
     "output_type": "stream",
     "text": [
      "=>train accuracy: 0.6704\n",
      "=>train loss: 0.0173\n",
      "=>test accuracy: 0.7294\n",
      "=>test loss: 0.0193\n",
      "Epoch 43\n",
      "-------------------------------\n"
     ]
    },
    {
     "name": "stderr",
     "output_type": "stream",
     "text": [
      "30it [03:46,  7.55s/it]\n"
     ]
    },
    {
     "name": "stdout",
     "output_type": "stream",
     "text": [
      "=>train accuracy: 0.8779\n",
      "=>train loss: 0.0079\n",
      "=>test accuracy: 0.7088\n",
      "=>test loss: 0.0200\n",
      "Epoch 44\n",
      "-------------------------------\n"
     ]
    },
    {
     "name": "stderr",
     "output_type": "stream",
     "text": [
      "8it [00:58,  7.34s/it]\n"
     ]
    },
    {
     "name": "stdout",
     "output_type": "stream",
     "text": [
      "=>train accuracy: 0.6614\n",
      "=>train loss: 0.0193\n",
      "=>test accuracy: 0.6946\n",
      "=>test loss: 0.0209\n",
      "Epoch 45\n",
      "-------------------------------\n"
     ]
    },
    {
     "name": "stderr",
     "output_type": "stream",
     "text": [
      "12it [01:29,  7.43s/it]\n"
     ]
    },
    {
     "name": "stdout",
     "output_type": "stream",
     "text": [
      "=>train accuracy: 0.7394\n",
      "=>train loss: 0.0162\n",
      "=>test accuracy: 0.6869\n",
      "=>test loss: 0.0212\n",
      "Epoch 46\n",
      "-------------------------------\n"
     ]
    },
    {
     "name": "stderr",
     "output_type": "stream",
     "text": [
      "9it [01:05,  7.33s/it]\n"
     ]
    },
    {
     "name": "stdout",
     "output_type": "stream",
     "text": [
      "=>train accuracy: 0.7650\n",
      "=>train loss: 0.0115\n",
      "=>test accuracy: 0.6314\n",
      "=>test loss: 0.0216\n",
      "Epoch 47\n",
      "-------------------------------\n"
     ]
    },
    {
     "name": "stderr",
     "output_type": "stream",
     "text": [
      "15it [01:46,  7.13s/it]\n"
     ]
    },
    {
     "name": "stdout",
     "output_type": "stream",
     "text": [
      "=>train accuracy: 0.6831\n",
      "=>train loss: 0.0166\n",
      "=>test accuracy: 0.7049\n",
      "=>test loss: 0.0200\n",
      "Epoch 48\n",
      "-------------------------------\n"
     ]
    },
    {
     "name": "stderr",
     "output_type": "stream",
     "text": [
      "30it [04:19,  8.64s/it]\n"
     ]
    },
    {
     "name": "stdout",
     "output_type": "stream",
     "text": [
      "=>train accuracy: 0.8855\n",
      "=>train loss: 0.0076\n",
      "=>test accuracy: 0.7165\n",
      "=>test loss: 0.0193\n",
      "Epoch 49\n",
      "-------------------------------\n"
     ]
    },
    {
     "name": "stderr",
     "output_type": "stream",
     "text": [
      "8it [00:57,  7.23s/it]\n"
     ]
    },
    {
     "name": "stdout",
     "output_type": "stream",
     "text": [
      "=>train accuracy: 0.6562\n",
      "=>train loss: 0.0186\n",
      "=>test accuracy: 0.7152\n",
      "=>test loss: 0.0195\n",
      "Epoch 50\n",
      "-------------------------------\n"
     ]
    },
    {
     "name": "stderr",
     "output_type": "stream",
     "text": [
      "12it [01:29,  7.42s/it]\n"
     ]
    },
    {
     "name": "stdout",
     "output_type": "stream",
     "text": [
      "=>train accuracy: 0.7428\n",
      "=>train loss: 0.0158\n",
      "=>test accuracy: 0.6804\n",
      "=>test loss: 0.0207\n",
      "Epoch 51\n",
      "-------------------------------\n"
     ]
    },
    {
     "name": "stderr",
     "output_type": "stream",
     "text": [
      "9it [01:05,  7.25s/it]\n"
     ]
    },
    {
     "name": "stdout",
     "output_type": "stream",
     "text": [
      "=>train accuracy: 0.7604\n",
      "=>train loss: 0.0123\n",
      "=>test accuracy: 0.6985\n",
      "=>test loss: 0.0194\n",
      "Epoch 52\n",
      "-------------------------------\n"
     ]
    },
    {
     "name": "stderr",
     "output_type": "stream",
     "text": [
      "15it [01:46,  7.12s/it]\n"
     ]
    },
    {
     "name": "stdout",
     "output_type": "stream",
     "text": [
      "=>train accuracy: 0.6915\n",
      "=>train loss: 0.0158\n",
      "=>test accuracy: 0.7384\n",
      "=>test loss: 0.0183\n",
      "Epoch 53\n",
      "-------------------------------\n"
     ]
    },
    {
     "name": "stderr",
     "output_type": "stream",
     "text": [
      "30it [03:39,  7.31s/it]\n"
     ]
    },
    {
     "name": "stdout",
     "output_type": "stream",
     "text": [
      "=>train accuracy: 0.8848\n",
      "=>train loss: 0.0075\n",
      "=>test accuracy: 0.7113\n",
      "=>test loss: 0.0196\n",
      "Epoch 54\n",
      "-------------------------------\n"
     ]
    },
    {
     "name": "stderr",
     "output_type": "stream",
     "text": [
      "8it [00:58,  7.27s/it]\n"
     ]
    },
    {
     "name": "stdout",
     "output_type": "stream",
     "text": [
      "=>train accuracy: 0.6903\n",
      "=>train loss: 0.0198\n",
      "=>test accuracy: 0.6946\n",
      "=>test loss: 0.0203\n",
      "Epoch 55\n",
      "-------------------------------\n"
     ]
    },
    {
     "name": "stderr",
     "output_type": "stream",
     "text": [
      "12it [01:28,  7.40s/it]\n"
     ]
    },
    {
     "name": "stdout",
     "output_type": "stream",
     "text": [
      "=>train accuracy: 0.7513\n",
      "=>train loss: 0.0157\n",
      "=>test accuracy: 0.6817\n",
      "=>test loss: 0.0211\n",
      "Epoch 56\n",
      "-------------------------------\n"
     ]
    },
    {
     "name": "stderr",
     "output_type": "stream",
     "text": [
      "9it [01:05,  7.27s/it]\n"
     ]
    },
    {
     "name": "stdout",
     "output_type": "stream",
     "text": [
      "=>train accuracy: 0.7995\n",
      "=>train loss: 0.0116\n",
      "=>test accuracy: 0.7075\n",
      "=>test loss: 0.0194\n",
      "Epoch 57\n",
      "-------------------------------\n"
     ]
    },
    {
     "name": "stderr",
     "output_type": "stream",
     "text": [
      "15it [01:47,  7.19s/it]\n"
     ]
    },
    {
     "name": "stdout",
     "output_type": "stream",
     "text": [
      "=>train accuracy: 0.6944\n",
      "=>train loss: 0.0167\n",
      "=>test accuracy: 0.7564\n",
      "=>test loss: 0.0187\n",
      "Epoch 58\n",
      "-------------------------------\n"
     ]
    },
    {
     "name": "stderr",
     "output_type": "stream",
     "text": [
      "30it [03:40,  7.35s/it]\n"
     ]
    },
    {
     "name": "stdout",
     "output_type": "stream",
     "text": [
      "=>train accuracy: 0.8841\n",
      "=>train loss: 0.0076\n",
      "=>test accuracy: 0.7178\n",
      "=>test loss: 0.0190\n",
      "Epoch 59\n",
      "-------------------------------\n"
     ]
    },
    {
     "name": "stderr",
     "output_type": "stream",
     "text": [
      "8it [00:57,  7.25s/it]\n"
     ]
    },
    {
     "name": "stdout",
     "output_type": "stream",
     "text": [
      "=>train accuracy: 0.6982\n",
      "=>train loss: 0.0173\n",
      "=>test accuracy: 0.7216\n",
      "=>test loss: 0.0194\n",
      "Epoch 60\n",
      "-------------------------------\n"
     ]
    },
    {
     "name": "stderr",
     "output_type": "stream",
     "text": [
      "12it [01:28,  7.42s/it]\n"
     ]
    },
    {
     "name": "stdout",
     "output_type": "stream",
     "text": [
      "=>train accuracy: 0.7411\n",
      "=>train loss: 0.0151\n",
      "=>test accuracy: 0.6959\n",
      "=>test loss: 0.0205\n",
      "Epoch 61\n",
      "-------------------------------\n"
     ]
    },
    {
     "name": "stderr",
     "output_type": "stream",
     "text": [
      "9it [01:05,  7.24s/it]\n"
     ]
    },
    {
     "name": "stdout",
     "output_type": "stream",
     "text": [
      "=>train accuracy: 0.7742\n",
      "=>train loss: 0.0117\n",
      "=>test accuracy: 0.7191\n",
      "=>test loss: 0.0191\n",
      "Epoch 62\n",
      "-------------------------------\n"
     ]
    },
    {
     "name": "stderr",
     "output_type": "stream",
     "text": [
      "15it [01:48,  7.20s/it]\n"
     ]
    },
    {
     "name": "stdout",
     "output_type": "stream",
     "text": [
      "=>train accuracy: 0.6930\n",
      "=>train loss: 0.0150\n",
      "=>test accuracy: 0.7474\n",
      "=>test loss: 0.0185\n",
      "Epoch 63\n",
      "-------------------------------\n"
     ]
    },
    {
     "name": "stderr",
     "output_type": "stream",
     "text": [
      "30it [03:41,  7.38s/it]\n"
     ]
    },
    {
     "name": "stdout",
     "output_type": "stream",
     "text": [
      "=>train accuracy: 0.8971\n",
      "=>train loss: 0.0069\n",
      "=>test accuracy: 0.7152\n",
      "=>test loss: 0.0192\n",
      "Epoch 64\n",
      "-------------------------------\n"
     ]
    },
    {
     "name": "stderr",
     "output_type": "stream",
     "text": [
      "8it [00:57,  7.22s/it]\n"
     ]
    },
    {
     "name": "stdout",
     "output_type": "stream",
     "text": [
      "=>train accuracy: 0.6352\n",
      "=>train loss: 0.0189\n",
      "=>test accuracy: 0.7126\n",
      "=>test loss: 0.0201\n",
      "Epoch 65\n",
      "-------------------------------\n"
     ]
    },
    {
     "name": "stderr",
     "output_type": "stream",
     "text": [
      "12it [01:28,  7.37s/it]\n"
     ]
    },
    {
     "name": "stdout",
     "output_type": "stream",
     "text": [
      "=>train accuracy: 0.7683\n",
      "=>train loss: 0.0136\n",
      "=>test accuracy: 0.6920\n",
      "=>test loss: 0.0208\n",
      "Epoch 66\n",
      "-------------------------------\n"
     ]
    },
    {
     "name": "stderr",
     "output_type": "stream",
     "text": [
      "9it [01:05,  7.29s/it]\n"
     ]
    },
    {
     "name": "stdout",
     "output_type": "stream",
     "text": [
      "=>train accuracy: 0.7719\n",
      "=>train loss: 0.0114\n",
      "=>test accuracy: 0.7204\n",
      "=>test loss: 0.0191\n",
      "Epoch 67\n",
      "-------------------------------\n"
     ]
    },
    {
     "name": "stderr",
     "output_type": "stream",
     "text": [
      "15it [01:47,  7.14s/it]\n"
     ]
    },
    {
     "name": "stdout",
     "output_type": "stream",
     "text": [
      "=>train accuracy: 0.6887\n",
      "=>train loss: 0.0160\n",
      "=>test accuracy: 0.7423\n",
      "=>test loss: 0.0188\n",
      "Epoch 68\n",
      "-------------------------------\n"
     ]
    },
    {
     "name": "stderr",
     "output_type": "stream",
     "text": [
      "30it [03:42,  7.41s/it]\n"
     ]
    },
    {
     "name": "stdout",
     "output_type": "stream",
     "text": [
      "=>train accuracy: 0.8951\n",
      "=>train loss: 0.0067\n",
      "=>test accuracy: 0.7113\n",
      "=>test loss: 0.0188\n",
      "Epoch 69\n",
      "-------------------------------\n"
     ]
    },
    {
     "name": "stderr",
     "output_type": "stream",
     "text": [
      "8it [00:58,  7.27s/it]\n"
     ]
    },
    {
     "name": "stdout",
     "output_type": "stream",
     "text": [
      "=>train accuracy: 0.6877\n",
      "=>train loss: 0.0183\n",
      "=>test accuracy: 0.7088\n",
      "=>test loss: 0.0200\n",
      "Epoch 70\n",
      "-------------------------------\n"
     ]
    },
    {
     "name": "stderr",
     "output_type": "stream",
     "text": [
      "12it [01:29,  7.43s/it]\n"
     ]
    },
    {
     "name": "stdout",
     "output_type": "stream",
     "text": [
      "=>train accuracy: 0.7547\n",
      "=>train loss: 0.0142\n",
      "=>test accuracy: 0.6778\n",
      "=>test loss: 0.0206\n",
      "Epoch 71\n",
      "-------------------------------\n"
     ]
    },
    {
     "name": "stderr",
     "output_type": "stream",
     "text": [
      "9it [01:06,  7.34s/it]\n"
     ]
    },
    {
     "name": "stdout",
     "output_type": "stream",
     "text": [
      "=>train accuracy: 0.7903\n",
      "=>train loss: 0.0120\n",
      "=>test accuracy: 0.7268\n",
      "=>test loss: 0.0188\n",
      "Epoch 72\n",
      "-------------------------------\n"
     ]
    },
    {
     "name": "stderr",
     "output_type": "stream",
     "text": [
      "15it [01:47,  7.17s/it]\n"
     ]
    },
    {
     "name": "stdout",
     "output_type": "stream",
     "text": [
      "=>train accuracy: 0.6831\n",
      "=>train loss: 0.0164\n",
      "=>test accuracy: 0.7526\n",
      "=>test loss: 0.0176\n",
      "Epoch 73\n",
      "-------------------------------\n"
     ]
    },
    {
     "name": "stderr",
     "output_type": "stream",
     "text": [
      "30it [03:41,  7.37s/it]\n"
     ]
    },
    {
     "name": "stdout",
     "output_type": "stream",
     "text": [
      "=>train accuracy: 0.9060\n",
      "=>train loss: 0.0064\n",
      "=>test accuracy: 0.7191\n",
      "=>test loss: 0.0197\n",
      "Epoch 74\n",
      "-------------------------------\n"
     ]
    },
    {
     "name": "stderr",
     "output_type": "stream",
     "text": [
      "8it [00:57,  7.18s/it]\n"
     ]
    },
    {
     "name": "stdout",
     "output_type": "stream",
     "text": [
      "=>train accuracy: 0.6955\n",
      "=>train loss: 0.0166\n",
      "=>test accuracy: 0.7049\n",
      "=>test loss: 0.0205\n",
      "Epoch 75\n",
      "-------------------------------\n"
     ]
    },
    {
     "name": "stderr",
     "output_type": "stream",
     "text": [
      "12it [01:29,  7.42s/it]\n"
     ]
    },
    {
     "name": "stdout",
     "output_type": "stream",
     "text": [
      "=>train accuracy: 0.7683\n",
      "=>train loss: 0.0148\n",
      "=>test accuracy: 0.6843\n",
      "=>test loss: 0.0214\n",
      "Epoch 76\n",
      "-------------------------------\n"
     ]
    },
    {
     "name": "stderr",
     "output_type": "stream",
     "text": [
      "9it [01:06,  7.36s/it]\n"
     ]
    },
    {
     "name": "stdout",
     "output_type": "stream",
     "text": [
      "=>train accuracy: 0.8018\n",
      "=>train loss: 0.0104\n",
      "=>test accuracy: 0.7113\n",
      "=>test loss: 0.0193\n",
      "Epoch 77\n",
      "-------------------------------\n"
     ]
    },
    {
     "name": "stderr",
     "output_type": "stream",
     "text": [
      "15it [01:48,  7.21s/it]\n"
     ]
    },
    {
     "name": "stdout",
     "output_type": "stream",
     "text": [
      "=>train accuracy: 0.6803\n",
      "=>train loss: 0.0166\n",
      "=>test accuracy: 0.7500\n",
      "=>test loss: 0.0183\n",
      "Epoch 78\n",
      "-------------------------------\n"
     ]
    },
    {
     "name": "stderr",
     "output_type": "stream",
     "text": [
      "30it [04:08,  8.27s/it]\n"
     ]
    },
    {
     "name": "stdout",
     "output_type": "stream",
     "text": [
      "=>train accuracy: 0.9005\n",
      "=>train loss: 0.0067\n",
      "=>test accuracy: 0.7165\n",
      "=>test loss: 0.0193\n",
      "Epoch 79\n",
      "-------------------------------\n"
     ]
    },
    {
     "name": "stderr",
     "output_type": "stream",
     "text": [
      "8it [00:58,  7.31s/it]\n"
     ]
    },
    {
     "name": "stdout",
     "output_type": "stream",
     "text": [
      "=>train accuracy: 0.7113\n",
      "=>train loss: 0.0174\n",
      "=>test accuracy: 0.7049\n",
      "=>test loss: 0.0203\n",
      "Epoch 80\n",
      "-------------------------------\n"
     ]
    },
    {
     "name": "stderr",
     "output_type": "stream",
     "text": [
      "12it [01:31,  7.65s/it]\n"
     ]
    },
    {
     "name": "stdout",
     "output_type": "stream",
     "text": [
      "=>train accuracy: 0.7564\n",
      "=>train loss: 0.0142\n",
      "=>test accuracy: 0.6933\n",
      "=>test loss: 0.0207\n"
     ]
    }
   ],
   "source": [
    "writer = SummaryWriter() \n",
    "train(model, trainloader,testloader,loss_fn, learning_rate,max_acc)\n",
    "writer.flush()\n",
    "writer.close()"
   ]
  },
  {
   "cell_type": "code",
   "execution_count": 14,
   "id": "ffc90e14",
   "metadata": {},
   "outputs": [
    {
     "data": {
      "image/png": "[encoded data removed]",
      "text/plain": [
       "<Figure size 432x288 with 1 Axes>"
      ]
     },
     "metadata": {
      "needs_background": "light"
     },
     "output_type": "display_data"
    }
   ],
   "source": [
    "#plot train accuracy in each epoch\n",
    "import matplotlib.pyplot as plt\n",
    "%matplotlib inline\n",
    "dim1 = []\n",
    "dim1.extend(range(1, 81))\n",
    "plt.plot(dim1,train_Acc_list,label='Train Accuracy')\n",
    "plt.title('Train accuracy')\n",
    "plt.xlabel('epoch')\n",
    "plt.ylabel('Accuracy')\n",
    "plt.legend()\n",
    "plt.show()"
   ]
  },
  {
   "cell_type": "code",
   "execution_count": 15,
   "id": "7cc0af30",
   "metadata": {},
   "outputs": [
    {
     "data": {
      "image/png": "[encoded data removed]",
      "text/plain": [
       "<Figure size 432x288 with 1 Axes>"
      ]
     },
     "metadata": {
      "needs_background": "light"
     },
     "output_type": "display_data"
    }
   ],
   "source": [
    "#plot train loss in each epochimport matplotlib.pyplot as plt\n",
    "plt.plot(dim1,train_loss_list,label='Train loss')\n",
    "plt.title('Train loss')\n",
    "plt.xlabel('epoch')\n",
    "plt.ylabel('loss')\n",
    "plt.legend()\n",
    "plt.show()"
   ]
  },
  {
   "cell_type": "code",
   "execution_count": 16,
   "id": "92d6b563",
   "metadata": {},
   "outputs": [
    {
     "data": {
      "image/png": "[encoded data removed]",
      "text/plain": [
       "<Figure size 432x288 with 1 Axes>"
      ]
     },
     "metadata": {
      "needs_background": "light"
     },
     "output_type": "display_data"
    }
   ],
   "source": [
    "#plot test accuracy in each epochimport matplotlib.pyplot as plt\n",
    "plt.plot(dim1,test_Acc_list,label='test Accuracy')\n",
    "plt.title('test accuracy')\n",
    "plt.xlabel('epoch')\n",
    "plt.ylabel('Accuracy')\n",
    "plt.legend()\n",
    "plt.show()"
   ]
  },
  {
   "cell_type": "code",
   "execution_count": 17,
   "id": "3f9f1dff",
   "metadata": {},
   "outputs": [
    {
     "data": {
      "image/png": "[encoded data removed]",
      "text/plain": [
       "<Figure size 432x288 with 1 Axes>"
      ]
     },
     "metadata": {
      "needs_background": "light"
     },
     "output_type": "display_data"
    }
   ],
   "source": [
    "#plot test loss in each epochimport matplotlib.pyplot as plt\n",
    "plt.plot(dim1,test_loss_list,label='Test loss')\n",
    "plt.title('test loss')\n",
    "plt.xlabel('epoch')\n",
    "plt.ylabel('loss')\n",
    "plt.legend()\n",
    "plt.show()"
   ]
  },
  {
   "cell_type": "code",
   "execution_count": null,
   "id": "0f9e3b3e",
   "metadata": {},
   "outputs": [],
   "source": []
  },
  {
   "cell_type": "code",
   "execution_count": null,
   "id": "d46510ff",
   "metadata": {},
   "outputs": [],
   "source": []
  }
 ],
 "metadata": {
  "kernelspec": {
   "display_name": "Python 3 (ipykernel)",
   "language": "python",
   "name": "python3"
  },
  "language_info": {
   "codemirror_mode": {
    "name": "ipython",
    "version": 3
   },
   "file_extension": ".py",
   "mimetype": "text/x-python",
   "name": "python",
   "nbconvert_exporter": "python",
   "pygments_lexer": "ipython3",
   "version": "3.8.12"
  }
 },
 "nbformat": 4,
 "nbformat_minor": 5
}
